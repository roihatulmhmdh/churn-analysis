{
 "cells": [
  {
   "cell_type": "markdown",
   "id": "3cc1495e",
   "metadata": {},
   "source": [
    "# Churn Analysis - Dataset Employees"
   ]
  },
  {
   "cell_type": "markdown",
   "id": "1aeb225e",
   "metadata": {},
   "source": [
    "**Bogor, 28th September 2023**"
   ]
  },
  {
   "cell_type": "markdown",
   "id": "cfb9df13",
   "metadata": {},
   "source": [
    "---"
   ]
  },
  {
   "cell_type": "code",
   "execution_count": 2,
   "id": "26885879",
   "metadata": {},
   "outputs": [
    {
     "name": "stderr",
     "output_type": "stream",
     "text": [
      "c:\\users\\aiforesee\\appdata\\local\\programs\\python\\python38\\lib\\site-packages\\numpy\\_distributor_init.py:30: UserWarning: loaded more than 1 DLL from .libs:\n",
      "c:\\users\\aiforesee\\appdata\\local\\programs\\python\\python38\\lib\\site-packages\\numpy\\.libs\\libopenblas.PYQHXLVVQ7VESDPUVUADXEVJOBGHJPAY.gfortran-win_amd64.dll\n",
      "c:\\users\\aiforesee\\appdata\\local\\programs\\python\\python38\\lib\\site-packages\\numpy\\.libs\\libopenblas64__v0.3.21-gcc_10_3_0.dll\n",
      "  warnings.warn(\"loaded more than 1 DLL from .libs:\"\n"
     ]
    }
   ],
   "source": [
    "import itertools\n",
    "import matplotlib.pyplot as plt\n",
    "import numpy as np\n",
    "import pandas as pd\n",
    "import scipy.stats as stats\n",
    "import seaborn as sns\n",
    "import statsmodels.api as sm\n",
    "\n",
    "from imblearn.over_sampling import RandomOverSampler\n",
    "from scipy.stats import chi2_contingency\n",
    "from sklearn import metrics\n",
    "from sklearn.metrics import average_precision_score\n",
    "from sklearn.model_selection import train_test_split"
   ]
  },
  {
   "cell_type": "markdown",
   "id": "5b3b556c",
   "metadata": {},
   "source": [
    "***Churn Definition***"
   ]
  },
  {
   "cell_type": "markdown",
   "id": "0d742fbb",
   "metadata": {},
   "source": [
    "Data yang digunakan merupakan dataset pegawai yang resign. Dalam kasus ini churn didefinisikan sebagai pegawai yang **Voluntarily Terminated** dan **Terminated for Cause**"
   ]
  },
  {
   "cell_type": "markdown",
   "id": "aaf2b8c7",
   "metadata": {},
   "source": [
    "***Load Data***"
   ]
  },
  {
   "cell_type": "code",
   "execution_count": 3,
   "id": "b8d9d676",
   "metadata": {},
   "outputs": [
    {
     "data": {
      "text/html": [
       "<div>\n",
       "<style scoped>\n",
       "    .dataframe tbody tr th:only-of-type {\n",
       "        vertical-align: middle;\n",
       "    }\n",
       "\n",
       "    .dataframe tbody tr th {\n",
       "        vertical-align: top;\n",
       "    }\n",
       "\n",
       "    .dataframe thead th {\n",
       "        text-align: right;\n",
       "    }\n",
       "</style>\n",
       "<table border=\"1\" class=\"dataframe\">\n",
       "  <thead>\n",
       "    <tr style=\"text-align: right;\">\n",
       "      <th></th>\n",
       "      <th>0</th>\n",
       "      <th>1</th>\n",
       "      <th>2</th>\n",
       "      <th>3</th>\n",
       "      <th>4</th>\n",
       "    </tr>\n",
       "  </thead>\n",
       "  <tbody>\n",
       "    <tr>\n",
       "      <th>EmpID</th>\n",
       "      <td>10001</td>\n",
       "      <td>10002</td>\n",
       "      <td>10003</td>\n",
       "      <td>10004</td>\n",
       "      <td>10005</td>\n",
       "    </tr>\n",
       "    <tr>\n",
       "      <th>LevelID</th>\n",
       "      <td>Senior</td>\n",
       "      <td>Senior</td>\n",
       "      <td>Senior</td>\n",
       "      <td>Middle</td>\n",
       "      <td>Middle</td>\n",
       "    </tr>\n",
       "    <tr>\n",
       "      <th>PerfScoreID</th>\n",
       "      <td>Exceed</td>\n",
       "      <td>Fully meets</td>\n",
       "      <td>Average</td>\n",
       "      <td>Exceed</td>\n",
       "      <td>Average</td>\n",
       "    </tr>\n",
       "    <tr>\n",
       "      <th>EngagementSurvey</th>\n",
       "      <td>4.6</td>\n",
       "      <td>4.96</td>\n",
       "      <td>3.02</td>\n",
       "      <td>4.84</td>\n",
       "      <td>5.0</td>\n",
       "    </tr>\n",
       "    <tr>\n",
       "      <th>EmpSatisfaction</th>\n",
       "      <td>5</td>\n",
       "      <td>3</td>\n",
       "      <td>3</td>\n",
       "      <td>5</td>\n",
       "      <td>4</td>\n",
       "    </tr>\n",
       "    <tr>\n",
       "      <th>SpecialProjectsCount</th>\n",
       "      <td>0</td>\n",
       "      <td>6</td>\n",
       "      <td>0</td>\n",
       "      <td>0</td>\n",
       "      <td>0</td>\n",
       "    </tr>\n",
       "    <tr>\n",
       "      <th>DaysLateLast30</th>\n",
       "      <td>0</td>\n",
       "      <td>0</td>\n",
       "      <td>0</td>\n",
       "      <td>0</td>\n",
       "      <td>0</td>\n",
       "    </tr>\n",
       "    <tr>\n",
       "      <th>Absences</th>\n",
       "      <td>1</td>\n",
       "      <td>17</td>\n",
       "      <td>3</td>\n",
       "      <td>15</td>\n",
       "      <td>2</td>\n",
       "    </tr>\n",
       "    <tr>\n",
       "      <th>Age</th>\n",
       "      <td>38</td>\n",
       "      <td>46</td>\n",
       "      <td>32</td>\n",
       "      <td>32</td>\n",
       "      <td>31</td>\n",
       "    </tr>\n",
       "    <tr>\n",
       "      <th>Churn</th>\n",
       "      <td>0</td>\n",
       "      <td>1</td>\n",
       "      <td>1</td>\n",
       "      <td>0</td>\n",
       "      <td>1</td>\n",
       "    </tr>\n",
       "  </tbody>\n",
       "</table>\n",
       "</div>"
      ],
      "text/plain": [
       "                           0            1        2       3        4\n",
       "EmpID                  10001        10002    10003   10004    10005\n",
       "LevelID               Senior       Senior   Senior  Middle   Middle\n",
       "PerfScoreID           Exceed  Fully meets  Average  Exceed  Average\n",
       "EngagementSurvey         4.6         4.96     3.02    4.84      5.0\n",
       "EmpSatisfaction            5            3        3       5        4\n",
       "SpecialProjectsCount       0            6        0       0        0\n",
       "DaysLateLast30             0            0        0       0        0\n",
       "Absences                   1           17        3      15        2\n",
       "Age                       38           46       32      32       31\n",
       "Churn                      0            1        1       0        1"
      ]
     },
     "execution_count": 3,
     "metadata": {},
     "output_type": "execute_result"
    }
   ],
   "source": [
    "# Load data csv\n",
    "data = pd.read_csv(\"dataset_HR.csv\")\n",
    "\n",
    "data.head().T"
   ]
  },
  {
   "cell_type": "code",
   "execution_count": 4,
   "id": "6b3c4347",
   "metadata": {
    "scrolled": true
   },
   "outputs": [
    {
     "data": {
      "text/plain": [
       "(287, 10)"
      ]
     },
     "execution_count": 4,
     "metadata": {},
     "output_type": "execute_result"
    }
   ],
   "source": [
    "# Cek data shape\n",
    "data.shape"
   ]
  },
  {
   "cell_type": "code",
   "execution_count": 5,
   "id": "14b5d696",
   "metadata": {},
   "outputs": [
    {
     "data": {
      "text/plain": [
       "0"
      ]
     },
     "execution_count": 5,
     "metadata": {},
     "output_type": "execute_result"
    }
   ],
   "source": [
    "# Cek EmpID yang duplikat\n",
    "data['EmpID'].duplicated().sum()"
   ]
  },
  {
   "cell_type": "code",
   "execution_count": 6,
   "id": "85bb98a9",
   "metadata": {},
   "outputs": [
    {
     "name": "stdout",
     "output_type": "stream",
     "text": [
      "<class 'pandas.core.frame.DataFrame'>\n",
      "RangeIndex: 287 entries, 0 to 286\n",
      "Data columns (total 9 columns):\n",
      " #   Column                Non-Null Count  Dtype  \n",
      "---  ------                --------------  -----  \n",
      " 0   LevelID               287 non-null    object \n",
      " 1   PerfScoreID           287 non-null    object \n",
      " 2   EngagementSurvey      287 non-null    float64\n",
      " 3   EmpSatisfaction       287 non-null    int64  \n",
      " 4   SpecialProjectsCount  287 non-null    int64  \n",
      " 5   DaysLateLast30        287 non-null    int64  \n",
      " 6   Absences              287 non-null    int64  \n",
      " 7   Age                   287 non-null    int64  \n",
      " 8   Churn                 287 non-null    int64  \n",
      "dtypes: float64(1), int64(6), object(2)\n",
      "memory usage: 20.3+ KB\n"
     ]
    }
   ],
   "source": [
    "# Drop EmpID\n",
    "data = data.drop(columns=['EmpID'], axis=1)\n",
    "\n",
    "# Cek nformasi\n",
    "data.info()"
   ]
  },
  {
   "cell_type": "code",
   "execution_count": 7,
   "id": "5a529be6",
   "metadata": {},
   "outputs": [
    {
     "data": {
      "text/plain": [
       "0    0.675958\n",
       "1    0.324042\n",
       "Name: Churn, dtype: float64"
      ]
     },
     "execution_count": 7,
     "metadata": {},
     "output_type": "execute_result"
    }
   ],
   "source": [
    "# Cek proporsi variabel respon\n",
    "data['Churn'].value_counts(normalize=True)"
   ]
  },
  {
   "cell_type": "markdown",
   "id": "8327e324",
   "metadata": {},
   "source": [
    "# Sample Splitting\n",
    "---"
   ]
  },
  {
   "cell_type": "code",
   "execution_count": 8,
   "id": "293f33ac",
   "metadata": {},
   "outputs": [
    {
     "name": "stdout",
     "output_type": "stream",
     "text": [
      "y shape : (287,)\n",
      "X shape : (287, 8)\n"
     ]
    }
   ],
   "source": [
    "response_variable = 'Churn'\n",
    "\n",
    "# Split respon dan prediktor\n",
    "y = data[response_variable]\n",
    "X = data.drop(columns=[response_variable], axis=1)\n",
    "\n",
    "print('y shape :', y.shape)\n",
    "print('X shape :', X.shape)"
   ]
  },
  {
   "cell_type": "code",
   "execution_count": 9,
   "id": "f5a5c0fe",
   "metadata": {},
   "outputs": [
    {
     "name": "stdout",
     "output_type": "stream",
     "text": [
      "X train shape : (200, 8)\n",
      "y train shape : (200,)\n",
      "X test shape  : (87, 8)\n",
      "y test shape  : (87,)\n"
     ]
    }
   ],
   "source": [
    "# Split data train dan test\n",
    "X_train, X_test, y_train, y_test = train_test_split(X,\n",
    "                                                    y,\n",
    "                                                    stratify = y,\n",
    "                                                    test_size = 0.3,\n",
    "                                                    random_state = 42)\n",
    "\n",
    "print('X train shape :', X_train.shape)\n",
    "print('y train shape :', y_train.shape)\n",
    "print('X test shape  :', X_test.shape)\n",
    "print('y test shape  :', y_test.shape)"
   ]
  },
  {
   "cell_type": "code",
   "execution_count": 10,
   "id": "9716462e",
   "metadata": {},
   "outputs": [
    {
     "data": {
      "text/plain": [
       "0    0.675\n",
       "1    0.325\n",
       "Name: Churn, dtype: float64"
      ]
     },
     "execution_count": 10,
     "metadata": {},
     "output_type": "execute_result"
    }
   ],
   "source": [
    "y_train.value_counts(normalize=True)"
   ]
  },
  {
   "cell_type": "code",
   "execution_count": 11,
   "id": "fd3a30e7",
   "metadata": {},
   "outputs": [
    {
     "data": {
      "text/plain": [
       "0    0.678161\n",
       "1    0.321839\n",
       "Name: Churn, dtype: float64"
      ]
     },
     "execution_count": 11,
     "metadata": {},
     "output_type": "execute_result"
    }
   ],
   "source": [
    "y_test.value_counts(normalize=True)"
   ]
  },
  {
   "cell_type": "markdown",
   "id": "a7efa743",
   "metadata": {},
   "source": [
    "# Exploratory Data Analysis\n",
    "---"
   ]
  },
  {
   "cell_type": "code",
   "execution_count": 13,
   "id": "e0f384bc",
   "metadata": {},
   "outputs": [
    {
     "name": "stdout",
     "output_type": "stream",
     "text": [
      "Train data shape: (200, 9)\n"
     ]
    },
    {
     "data": {
      "text/html": [
       "<div>\n",
       "<style scoped>\n",
       "    .dataframe tbody tr th:only-of-type {\n",
       "        vertical-align: middle;\n",
       "    }\n",
       "\n",
       "    .dataframe tbody tr th {\n",
       "        vertical-align: top;\n",
       "    }\n",
       "\n",
       "    .dataframe thead th {\n",
       "        text-align: right;\n",
       "    }\n",
       "</style>\n",
       "<table border=\"1\" class=\"dataframe\">\n",
       "  <thead>\n",
       "    <tr style=\"text-align: right;\">\n",
       "      <th></th>\n",
       "      <th>57</th>\n",
       "      <th>45</th>\n",
       "      <th>270</th>\n",
       "      <th>265</th>\n",
       "      <th>47</th>\n",
       "    </tr>\n",
       "  </thead>\n",
       "  <tbody>\n",
       "    <tr>\n",
       "      <th>LevelID</th>\n",
       "      <td>Junior</td>\n",
       "      <td>Middle</td>\n",
       "      <td>Senior</td>\n",
       "      <td>Senior</td>\n",
       "      <td>Junior</td>\n",
       "    </tr>\n",
       "    <tr>\n",
       "      <th>PerfScoreID</th>\n",
       "      <td>Exceed</td>\n",
       "      <td>Exceed</td>\n",
       "      <td>Exceed</td>\n",
       "      <td>Average</td>\n",
       "      <td>Average</td>\n",
       "    </tr>\n",
       "    <tr>\n",
       "      <th>EngagementSurvey</th>\n",
       "      <td>3.04</td>\n",
       "      <td>3.0</td>\n",
       "      <td>4.1</td>\n",
       "      <td>4.1</td>\n",
       "      <td>3.58</td>\n",
       "    </tr>\n",
       "    <tr>\n",
       "      <th>EmpSatisfaction</th>\n",
       "      <td>3</td>\n",
       "      <td>5</td>\n",
       "      <td>4</td>\n",
       "      <td>4</td>\n",
       "      <td>5</td>\n",
       "    </tr>\n",
       "    <tr>\n",
       "      <th>SpecialProjectsCount</th>\n",
       "      <td>6</td>\n",
       "      <td>0</td>\n",
       "      <td>0</td>\n",
       "      <td>0</td>\n",
       "      <td>0</td>\n",
       "    </tr>\n",
       "    <tr>\n",
       "      <th>DaysLateLast30</th>\n",
       "      <td>0</td>\n",
       "      <td>0</td>\n",
       "      <td>0</td>\n",
       "      <td>0</td>\n",
       "      <td>0</td>\n",
       "    </tr>\n",
       "    <tr>\n",
       "      <th>Absences</th>\n",
       "      <td>2</td>\n",
       "      <td>17</td>\n",
       "      <td>18</td>\n",
       "      <td>16</td>\n",
       "      <td>3</td>\n",
       "    </tr>\n",
       "    <tr>\n",
       "      <th>Age</th>\n",
       "      <td>34</td>\n",
       "      <td>51</td>\n",
       "      <td>32</td>\n",
       "      <td>48</td>\n",
       "      <td>33</td>\n",
       "    </tr>\n",
       "    <tr>\n",
       "      <th>Churn</th>\n",
       "      <td>0</td>\n",
       "      <td>0</td>\n",
       "      <td>0</td>\n",
       "      <td>1</td>\n",
       "      <td>0</td>\n",
       "    </tr>\n",
       "  </tbody>\n",
       "</table>\n",
       "</div>"
      ],
      "text/plain": [
       "                         57      45      270      265      47 \n",
       "LevelID               Junior  Middle  Senior   Senior   Junior\n",
       "PerfScoreID           Exceed  Exceed  Exceed  Average  Average\n",
       "EngagementSurvey        3.04     3.0     4.1      4.1     3.58\n",
       "EmpSatisfaction            3       5       4        4        5\n",
       "SpecialProjectsCount       6       0       0        0        0\n",
       "DaysLateLast30             0       0       0        0        0\n",
       "Absences                   2      17      18       16        3\n",
       "Age                       34      51      32       48       33\n",
       "Churn                      0       0       0        1        0"
      ]
     },
     "execution_count": 13,
     "metadata": {},
     "output_type": "execute_result"
    }
   ],
   "source": [
    "# Concat X_train dan y_train sebagai data_train\n",
    "data_train = pd.concat((X_train, y_train), axis=1)\n",
    "\n",
    "print('Train data shape:', data_train.shape)\n",
    "data_train.head().T"
   ]
  },
  {
   "cell_type": "markdown",
   "id": "bb3dc535",
   "metadata": {},
   "source": [
    "## Check for Missing Values\n",
    "\n",
    "---"
   ]
  },
  {
   "cell_type": "code",
   "execution_count": 16,
   "id": "ef133e0a",
   "metadata": {
    "scrolled": true
   },
   "outputs": [
    {
     "data": {
      "text/html": [
       "<div>\n",
       "<style scoped>\n",
       "    .dataframe tbody tr th:only-of-type {\n",
       "        vertical-align: middle;\n",
       "    }\n",
       "\n",
       "    .dataframe tbody tr th {\n",
       "        vertical-align: top;\n",
       "    }\n",
       "\n",
       "    .dataframe thead th {\n",
       "        text-align: right;\n",
       "    }\n",
       "</style>\n",
       "<table border=\"1\" class=\"dataframe\">\n",
       "  <thead>\n",
       "    <tr style=\"text-align: right;\">\n",
       "      <th></th>\n",
       "      <th>missing value</th>\n",
       "    </tr>\n",
       "  </thead>\n",
       "  <tbody>\n",
       "    <tr>\n",
       "      <th>LevelID</th>\n",
       "      <td>0</td>\n",
       "    </tr>\n",
       "    <tr>\n",
       "      <th>PerfScoreID</th>\n",
       "      <td>0</td>\n",
       "    </tr>\n",
       "    <tr>\n",
       "      <th>EngagementSurvey</th>\n",
       "      <td>0</td>\n",
       "    </tr>\n",
       "    <tr>\n",
       "      <th>EmpSatisfaction</th>\n",
       "      <td>0</td>\n",
       "    </tr>\n",
       "    <tr>\n",
       "      <th>SpecialProjectsCount</th>\n",
       "      <td>0</td>\n",
       "    </tr>\n",
       "    <tr>\n",
       "      <th>DaysLateLast30</th>\n",
       "      <td>0</td>\n",
       "    </tr>\n",
       "    <tr>\n",
       "      <th>Absences</th>\n",
       "      <td>0</td>\n",
       "    </tr>\n",
       "    <tr>\n",
       "      <th>Age</th>\n",
       "      <td>0</td>\n",
       "    </tr>\n",
       "    <tr>\n",
       "      <th>Churn</th>\n",
       "      <td>0</td>\n",
       "    </tr>\n",
       "  </tbody>\n",
       "</table>\n",
       "</div>"
      ],
      "text/plain": [
       "                      missing value\n",
       "LevelID                           0\n",
       "PerfScoreID                       0\n",
       "EngagementSurvey                  0\n",
       "EmpSatisfaction                   0\n",
       "SpecialProjectsCount              0\n",
       "DaysLateLast30                    0\n",
       "Absences                          0\n",
       "Age                               0\n",
       "Churn                             0"
      ]
     },
     "execution_count": 16,
     "metadata": {},
     "output_type": "execute_result"
    }
   ],
   "source": [
    "# Cek missing values\n",
    "pd.DataFrame(data_train.isna().sum()).rename(columns = {0: 'missing value'})"
   ]
  },
  {
   "cell_type": "code",
   "execution_count": 13,
   "id": "402ede19",
   "metadata": {},
   "outputs": [
    {
     "name": "stdout",
     "output_type": "stream",
     "text": [
      "<class 'pandas.core.frame.DataFrame'>\n",
      "Int64Index: 200 entries, 57 to 174\n",
      "Data columns (total 9 columns):\n",
      " #   Column                Non-Null Count  Dtype  \n",
      "---  ------                --------------  -----  \n",
      " 0   LevelID               200 non-null    object \n",
      " 1   PerfScoreID           200 non-null    object \n",
      " 2   EngagementSurvey      200 non-null    float64\n",
      " 3   EmpSatisfaction       200 non-null    int64  \n",
      " 4   SpecialProjectsCount  200 non-null    int64  \n",
      " 5   DaysLateLast30        200 non-null    int64  \n",
      " 6   Absences              200 non-null    int64  \n",
      " 7   Age                   200 non-null    int64  \n",
      " 8   Churn                 200 non-null    int64  \n",
      "dtypes: float64(1), int64(6), object(2)\n",
      "memory usage: 15.6+ KB\n"
     ]
    }
   ],
   "source": [
    "# Cek tipe data\n",
    "data_train.info()"
   ]
  },
  {
   "cell_type": "code",
   "execution_count": 14,
   "id": "8eec5be1",
   "metadata": {},
   "outputs": [],
   "source": [
    "# Create a function of independence test\n",
    "def independence_test(predictor_label, alpha=0.05):\n",
    "    \"\"\"\n",
    "    Funtion to perform the independence test.\n",
    "\n",
    "    Parameters\n",
    "    ----------\n",
    "    predictor_label : object\n",
    "      The label of predictor variable.\n",
    "\n",
    "    alpha : float in range[0,1], default = 0.05\n",
    "      Probability of Type I Error (reject H0 when H0 is true).\n",
    "\n",
    "    \"\"\"\n",
    "    # Build the contingency table\n",
    "    crosstab = pd.crosstab(data_train[predictor_label],\n",
    "                           data_train['Churn'],\n",
    "                           margins = False)\n",
    "\n",
    "    # Test whether churn is independent of the predictor\n",
    "    stats.chi2_contingency(crosstab)\n",
    "\n",
    "    # Result of independence test\n",
    "    result = stats.chi2_contingency(crosstab)\n",
    "\n",
    "    # Extract the test result\n",
    "    stat = result[0]\n",
    "    pval = result[1]\n",
    "\n",
    "    # Print the conclusion\n",
    "    if pval < alpha:\n",
    "        print(f\"Churn and {predictor_label} is not independent with P-val={pval}.\")\n",
    "    else:\n",
    "        print(f\"Churn and {predictor_label} is independent with P-val={pval}.\")"
   ]
  },
  {
   "cell_type": "markdown",
   "id": "ab66e5b1",
   "metadata": {},
   "source": [
    "## Predictor 1: LevelID       \n",
    "\n",
    "---\n",
    "Level Pegawai"
   ]
  },
  {
   "cell_type": "code",
   "execution_count": 15,
   "id": "c154b9c6",
   "metadata": {},
   "outputs": [
    {
     "data": {
      "text/plain": [
       "Junior    0.625\n",
       "Middle    0.215\n",
       "Senior    0.160\n",
       "Name: LevelID, dtype: float64"
      ]
     },
     "execution_count": 15,
     "metadata": {},
     "output_type": "execute_result"
    }
   ],
   "source": [
    "# Proporsi 'LevelID'\n",
    "data_train['LevelID'].value_counts(normalize=True)"
   ]
  },
  {
   "cell_type": "code",
   "execution_count": 16,
   "id": "0c9edcec",
   "metadata": {
    "scrolled": true
   },
   "outputs": [
    {
     "data": {
      "text/plain": [
       "<AxesSubplot:xlabel='LevelID', ylabel='count'>"
      ]
     },
     "execution_count": 16,
     "metadata": {},
     "output_type": "execute_result"
    },
    {
     "data": {
      "image/png": "[encoded data removed]",
      "text/plain": [
       "<Figure size 432x288 with 1 Axes>"
      ]
     },
     "metadata": {
      "needs_background": "light"
     },
     "output_type": "display_data"
    }
   ],
   "source": [
    "# Proporsi churn berdasarkan 'LevelID'\n",
    "sns.countplot(data = data_train,\n",
    "              x = 'LevelID',\n",
    "              hue = 'Churn')"
   ]
  },
  {
   "cell_type": "code",
   "execution_count": 17,
   "id": "f33e9cd2",
   "metadata": {},
   "outputs": [
    {
     "name": "stdout",
     "output_type": "stream",
     "text": [
      "Churn and LevelID is independent with P-val=0.38059832181174813.\n"
     ]
    }
   ],
   "source": [
    "# Independence test\n",
    "independence_test('LevelID')"
   ]
  },
  {
   "cell_type": "markdown",
   "id": "c308bcdf",
   "metadata": {},
   "source": [
    "**Summay:**\n",
    "\n",
    "\n",
    "Berdasarkan independence test, pegawai resign dan level pegawai merupakan **independent**."
   ]
  },
  {
   "cell_type": "code",
   "execution_count": 18,
   "id": "33129a64",
   "metadata": {},
   "outputs": [
    {
     "data": {
      "text/plain": [
       "False"
      ]
     },
     "execution_count": 18,
     "metadata": {},
     "output_type": "execute_result"
    }
   ],
   "source": [
    "# Cek missing value\n",
    "data_train['LevelID'].isnull().any()"
   ]
  },
  {
   "cell_type": "markdown",
   "id": "4a40df88",
   "metadata": {},
   "source": [
    "**Pre-processing Plan:**\n",
    "- Tidak ada outlier dan missing values dari `LevelID`.\n",
    "- Karena tipe data ordinal, maka perlu ditransformasi menjadi numerik yaitu Junior (1), Middle (2), dan Senior (3)."
   ]
  },
  {
   "cell_type": "markdown",
   "id": "8c566f48",
   "metadata": {},
   "source": [
    "## Predictor 2: PerfScoreID       \n",
    "\n",
    "---\n",
    "Score penilaian pegawai"
   ]
  },
  {
   "cell_type": "code",
   "execution_count": 19,
   "id": "2cf9a5f0",
   "metadata": {},
   "outputs": [
    {
     "data": {
      "text/plain": [
       "Exceed               0.270\n",
       "Average              0.265\n",
       "Fully meets          0.255\n",
       "Need improvement     0.115\n",
       "Special treatment    0.095\n",
       "Name: PerfScoreID, dtype: float64"
      ]
     },
     "execution_count": 19,
     "metadata": {},
     "output_type": "execute_result"
    }
   ],
   "source": [
    "# Proporsi 'PerfScoreID'\n",
    "data_train['PerfScoreID'].value_counts(normalize=True)"
   ]
  },
  {
   "cell_type": "code",
   "execution_count": 17,
   "id": "2ccfddf2",
   "metadata": {},
   "outputs": [
    {
     "data": {
      "text/plain": [
       "(array([0, 1, 2, 3, 4]),\n",
       " [Text(0, 0, 'Exceed'),\n",
       "  Text(1, 0, 'Average'),\n",
       "  Text(2, 0, 'Need improvement'),\n",
       "  Text(3, 0, 'Special treatment'),\n",
       "  Text(4, 0, 'Fully meets')])"
      ]
     },
     "execution_count": 17,
     "metadata": {},
     "output_type": "execute_result"
    },
    {
     "data": {
      "image/png": "[encoded data removed]",
      "text/plain": [
       "<Figure size 432x288 with 1 Axes>"
      ]
     },
     "metadata": {
      "needs_background": "light"
     },
     "output_type": "display_data"
    }
   ],
   "source": [
    "# Proporsi churn berdasarkan 'PerfScoreID'\n",
    "sns.countplot(data = data_train,\n",
    "              x = 'PerfScoreID',\n",
    "              hue = 'Churn')\n",
    "plt.xticks(rotation=90)"
   ]
  },
  {
   "cell_type": "code",
   "execution_count": 21,
   "id": "ad65074e",
   "metadata": {},
   "outputs": [
    {
     "name": "stdout",
     "output_type": "stream",
     "text": [
      "Churn and PerfScoreID is independent with P-val=0.9634331190078695.\n"
     ]
    }
   ],
   "source": [
    "# Independence test\n",
    "independence_test('PerfScoreID')"
   ]
  },
  {
   "cell_type": "markdown",
   "id": "d76cca52",
   "metadata": {},
   "source": [
    "**Summay:**\n",
    "\n",
    "\n",
    "Berdasarkan independence test, pegawai resign dan penilaian pegawai merupakan **independent**."
   ]
  },
  {
   "cell_type": "code",
   "execution_count": 22,
   "id": "23c3d087",
   "metadata": {},
   "outputs": [
    {
     "data": {
      "text/plain": [
       "False"
      ]
     },
     "execution_count": 22,
     "metadata": {},
     "output_type": "execute_result"
    }
   ],
   "source": [
    "# Cek missing value\n",
    "data_train['PerfScoreID'].isnull().any()"
   ]
  },
  {
   "cell_type": "markdown",
   "id": "f71f1d35",
   "metadata": {},
   "source": [
    "**Pre-processing Plan:**\n",
    "- Tidak ada outlier dan missing values dari `PerfScoreID`.\n",
    "- Karena tipe data ordinal, maka perlu ditransformasi menjadi numerik yaitu Special treatment (1), Need improvement (2), Average (3). Fully meets (4), dan Exceed (5)"
   ]
  },
  {
   "cell_type": "markdown",
   "id": "10857f23",
   "metadata": {},
   "source": [
    "## Predictor 3: EngagementSurvey       \n",
    "\n",
    "---\n",
    "Engagement Survey pegawai"
   ]
  },
  {
   "cell_type": "code",
   "execution_count": 23,
   "id": "93b7515e",
   "metadata": {},
   "outputs": [
    {
     "data": {
      "text/plain": [
       "count    200.000000\n",
       "mean       4.150800\n",
       "std        0.781713\n",
       "min        1.200000\n",
       "25%        3.730000\n",
       "50%        4.300000\n",
       "75%        4.737500\n",
       "max        5.000000\n",
       "Name: EngagementSurvey, dtype: float64"
      ]
     },
     "execution_count": 23,
     "metadata": {},
     "output_type": "execute_result"
    }
   ],
   "source": [
    "# Statistik deskriptif EngagementSurvey\n",
    "data_train['EngagementSurvey'].describe()"
   ]
  },
  {
   "cell_type": "code",
   "execution_count": 24,
   "id": "42a74655",
   "metadata": {},
   "outputs": [
    {
     "data": {
      "text/plain": [
       "<AxesSubplot:xlabel='EngagementSurvey', ylabel='Count'>"
      ]
     },
     "execution_count": 24,
     "metadata": {},
     "output_type": "execute_result"
    },
    {
     "data": {
      "image/png": "[encoded data removed]",
      "text/plain": [
       "<Figure size 432x288 with 1 Axes>"
      ]
     },
     "metadata": {
      "needs_background": "light"
     },
     "output_type": "display_data"
    }
   ],
   "source": [
    "# Distribusi EngagementSurvey\n",
    "sns.histplot(data = data_train,\n",
    "             x = 'EngagementSurvey')"
   ]
  },
  {
   "cell_type": "code",
   "execution_count": 25,
   "id": "0ea61c6d",
   "metadata": {},
   "outputs": [
    {
     "data": {
      "text/html": [
       "<div>\n",
       "<style scoped>\n",
       "    .dataframe tbody tr th:only-of-type {\n",
       "        vertical-align: middle;\n",
       "    }\n",
       "\n",
       "    .dataframe tbody tr th {\n",
       "        vertical-align: top;\n",
       "    }\n",
       "\n",
       "    .dataframe thead th {\n",
       "        text-align: right;\n",
       "    }\n",
       "</style>\n",
       "<table border=\"1\" class=\"dataframe\">\n",
       "  <thead>\n",
       "    <tr style=\"text-align: right;\">\n",
       "      <th></th>\n",
       "      <th>count</th>\n",
       "      <th>mean</th>\n",
       "      <th>std</th>\n",
       "      <th>min</th>\n",
       "      <th>25%</th>\n",
       "      <th>50%</th>\n",
       "      <th>75%</th>\n",
       "      <th>max</th>\n",
       "    </tr>\n",
       "    <tr>\n",
       "      <th>Churn</th>\n",
       "      <th></th>\n",
       "      <th></th>\n",
       "      <th></th>\n",
       "      <th></th>\n",
       "      <th></th>\n",
       "      <th></th>\n",
       "      <th></th>\n",
       "      <th></th>\n",
       "    </tr>\n",
       "  </thead>\n",
       "  <tbody>\n",
       "    <tr>\n",
       "      <th>0</th>\n",
       "      <td>135.0</td>\n",
       "      <td>4.157556</td>\n",
       "      <td>0.781577</td>\n",
       "      <td>1.2</td>\n",
       "      <td>3.765</td>\n",
       "      <td>4.3</td>\n",
       "      <td>4.715</td>\n",
       "      <td>5.0</td>\n",
       "    </tr>\n",
       "    <tr>\n",
       "      <th>1</th>\n",
       "      <td>65.0</td>\n",
       "      <td>4.136769</td>\n",
       "      <td>0.787891</td>\n",
       "      <td>2.0</td>\n",
       "      <td>3.720</td>\n",
       "      <td>4.2</td>\n",
       "      <td>4.760</td>\n",
       "      <td>5.0</td>\n",
       "    </tr>\n",
       "  </tbody>\n",
       "</table>\n",
       "</div>"
      ],
      "text/plain": [
       "       count      mean       std  min    25%  50%    75%  max\n",
       "Churn                                                        \n",
       "0      135.0  4.157556  0.781577  1.2  3.765  4.3  4.715  5.0\n",
       "1       65.0  4.136769  0.787891  2.0  3.720  4.2  4.760  5.0"
      ]
     },
     "execution_count": 25,
     "metadata": {},
     "output_type": "execute_result"
    }
   ],
   "source": [
    "# Statistik deskriptif EngagementSurvey berdasarkan churn\n",
    "data_train['EngagementSurvey'].groupby(data_train['Churn']).describe()"
   ]
  },
  {
   "cell_type": "code",
   "execution_count": 26,
   "id": "7e7462d7",
   "metadata": {},
   "outputs": [
    {
     "data": {
      "text/plain": [
       "<AxesSubplot:xlabel='Churn', ylabel='EngagementSurvey'>"
      ]
     },
     "execution_count": 26,
     "metadata": {},
     "output_type": "execute_result"
    },
    {
     "data": {
      "image/png": "[encoded data removed]",
      "text/plain": [
       "<Figure size 432x288 with 1 Axes>"
      ]
     },
     "metadata": {
      "needs_background": "light"
     },
     "output_type": "display_data"
    }
   ],
   "source": [
    "# Boxplot EngagementSurvey berdasarkan churn\n",
    "sns.boxplot(data = data_train,\n",
    "            x = 'Churn',\n",
    "            y = 'EngagementSurvey')"
   ]
  },
  {
   "cell_type": "code",
   "execution_count": 27,
   "id": "76c98f67",
   "metadata": {},
   "outputs": [
    {
     "data": {
      "text/plain": [
       "<seaborn.axisgrid.FacetGrid at 0x17ac8d72fa0>"
      ]
     },
     "execution_count": 27,
     "metadata": {},
     "output_type": "execute_result"
    },
    {
     "data": {
      "image/png": "[encoded data removed]",
      "text/plain": [
       "<Figure size 402.375x360 with 1 Axes>"
      ]
     },
     "metadata": {
      "needs_background": "light"
     },
     "output_type": "display_data"
    }
   ],
   "source": [
    "# Distribusi EngagementSurvey berdasarkan churn\n",
    "sns.displot(data = data_train,\n",
    "            x = 'EngagementSurvey',\n",
    "            hue = 'Churn',\n",
    "            kind = 'kde')"
   ]
  },
  {
   "cell_type": "markdown",
   "id": "b5f566f2",
   "metadata": {},
   "source": [
    "**Summay:**\n",
    "\n",
    "\n",
    "EngagementSurvey pada pegawai yang resign dan yang tidak resign memiliki distribusi yang sama, yaitu meningkat pada score 3 hingga 4.5"
   ]
  },
  {
   "cell_type": "code",
   "execution_count": 28,
   "id": "478b7d10",
   "metadata": {},
   "outputs": [
    {
     "data": {
      "text/plain": [
       "False"
      ]
     },
     "execution_count": 28,
     "metadata": {},
     "output_type": "execute_result"
    }
   ],
   "source": [
    "# Cek missing value\n",
    "data_train['EngagementSurvey'].isnull().any()"
   ]
  },
  {
   "cell_type": "markdown",
   "id": "3cc07b26",
   "metadata": {},
   "source": [
    "**Pre-processing Plan:**\n",
    "- Tidak ada outlier dan missing values dari `EngagementSurvey`."
   ]
  },
  {
   "cell_type": "markdown",
   "id": "5b2891b8",
   "metadata": {},
   "source": [
    "## Predictor 4: EmpSatisfaction       \n",
    "\n",
    "---\n",
    "Tingkat kepuasan kerja pegawai"
   ]
  },
  {
   "cell_type": "code",
   "execution_count": 29,
   "id": "08ac61b0",
   "metadata": {},
   "outputs": [
    {
     "data": {
      "text/plain": [
       "5    0.355\n",
       "3    0.325\n",
       "4    0.305\n",
       "2    0.010\n",
       "1    0.005\n",
       "Name: EmpSatisfaction, dtype: float64"
      ]
     },
     "execution_count": 29,
     "metadata": {},
     "output_type": "execute_result"
    }
   ],
   "source": [
    "# Proporsi 'EmpSatisfaction'\n",
    "data_train['EmpSatisfaction'].value_counts(normalize=True)"
   ]
  },
  {
   "cell_type": "code",
   "execution_count": 30,
   "id": "c1ecd800",
   "metadata": {},
   "outputs": [
    {
     "data": {
      "text/plain": [
       "<AxesSubplot:xlabel='EmpSatisfaction', ylabel='count'>"
      ]
     },
     "execution_count": 30,
     "metadata": {},
     "output_type": "execute_result"
    },
    {
     "data": {
      "image/png": "[encoded data removed]",
      "text/plain": [
       "<Figure size 432x288 with 1 Axes>"
      ]
     },
     "metadata": {
      "needs_background": "light"
     },
     "output_type": "display_data"
    }
   ],
   "source": [
    "# Proporsi churn berdasarkan 'EmpSatisfaction'\n",
    "sns.countplot(data = data_train,\n",
    "              x = 'EmpSatisfaction',\n",
    "              hue = 'Churn')"
   ]
  },
  {
   "cell_type": "code",
   "execution_count": 31,
   "id": "1f245428",
   "metadata": {},
   "outputs": [
    {
     "name": "stdout",
     "output_type": "stream",
     "text": [
      "Churn and EmpSatisfaction is independent with P-val=0.08438935561958837.\n"
     ]
    }
   ],
   "source": [
    "# Independence test\n",
    "independence_test('EmpSatisfaction')"
   ]
  },
  {
   "cell_type": "markdown",
   "id": "586f36e6",
   "metadata": {},
   "source": [
    "**Summay:**\n",
    "\n",
    "\n",
    "Berdasarkan independence test, pegawai resign dan tingkat kepuasan kerja pegawai merupakan **independent**."
   ]
  },
  {
   "cell_type": "code",
   "execution_count": 32,
   "id": "39c7a164",
   "metadata": {},
   "outputs": [
    {
     "data": {
      "text/plain": [
       "False"
      ]
     },
     "execution_count": 32,
     "metadata": {},
     "output_type": "execute_result"
    }
   ],
   "source": [
    "# Cek missing value\n",
    "data_train['EmpSatisfaction'].isnull().any()"
   ]
  },
  {
   "cell_type": "markdown",
   "id": "e56cb0e1",
   "metadata": {},
   "source": [
    "**Pre-processing Plan:**\n",
    "- Tidak ada outlier dan missing values dari `EmpSatisfaction`."
   ]
  },
  {
   "cell_type": "markdown",
   "id": "c4733b34",
   "metadata": {},
   "source": [
    "## Predictor 5: SpecialProjectsCount       \n",
    "\n",
    "---\n",
    "Jumlah special projects yang dikerjakan pegawai"
   ]
  },
  {
   "cell_type": "code",
   "execution_count": 33,
   "id": "1446220a",
   "metadata": {},
   "outputs": [
    {
     "data": {
      "text/plain": [
       "count    200.000000\n",
       "mean       1.200000\n",
       "std        2.314473\n",
       "min        0.000000\n",
       "25%        0.000000\n",
       "50%        0.000000\n",
       "75%        0.000000\n",
       "max        8.000000\n",
       "Name: SpecialProjectsCount, dtype: float64"
      ]
     },
     "execution_count": 33,
     "metadata": {},
     "output_type": "execute_result"
    }
   ],
   "source": [
    "# Statistik deskriptif SpecialProjectsCount\n",
    "data_train['SpecialProjectsCount'].describe()"
   ]
  },
  {
   "cell_type": "code",
   "execution_count": 34,
   "id": "74aba1c8",
   "metadata": {},
   "outputs": [
    {
     "data": {
      "text/plain": [
       "<AxesSubplot:xlabel='SpecialProjectsCount', ylabel='Count'>"
      ]
     },
     "execution_count": 34,
     "metadata": {},
     "output_type": "execute_result"
    },
    {
     "data": {
      "image/png": "[encoded data removed]",
      "text/plain": [
       "<Figure size 432x288 with 1 Axes>"
      ]
     },
     "metadata": {
      "needs_background": "light"
     },
     "output_type": "display_data"
    }
   ],
   "source": [
    "# Distribusi SpecialProjectsCount\n",
    "sns.histplot(data = data_train,\n",
    "             x = 'SpecialProjectsCount')"
   ]
  },
  {
   "cell_type": "code",
   "execution_count": 35,
   "id": "f0d60f4f",
   "metadata": {},
   "outputs": [
    {
     "data": {
      "text/html": [
       "<div>\n",
       "<style scoped>\n",
       "    .dataframe tbody tr th:only-of-type {\n",
       "        vertical-align: middle;\n",
       "    }\n",
       "\n",
       "    .dataframe tbody tr th {\n",
       "        vertical-align: top;\n",
       "    }\n",
       "\n",
       "    .dataframe thead th {\n",
       "        text-align: right;\n",
       "    }\n",
       "</style>\n",
       "<table border=\"1\" class=\"dataframe\">\n",
       "  <thead>\n",
       "    <tr style=\"text-align: right;\">\n",
       "      <th></th>\n",
       "      <th>count</th>\n",
       "      <th>mean</th>\n",
       "      <th>std</th>\n",
       "      <th>min</th>\n",
       "      <th>25%</th>\n",
       "      <th>50%</th>\n",
       "      <th>75%</th>\n",
       "      <th>max</th>\n",
       "    </tr>\n",
       "    <tr>\n",
       "      <th>Churn</th>\n",
       "      <th></th>\n",
       "      <th></th>\n",
       "      <th></th>\n",
       "      <th></th>\n",
       "      <th></th>\n",
       "      <th></th>\n",
       "      <th></th>\n",
       "      <th></th>\n",
       "    </tr>\n",
       "  </thead>\n",
       "  <tbody>\n",
       "    <tr>\n",
       "      <th>0</th>\n",
       "      <td>135.0</td>\n",
       "      <td>1.451852</td>\n",
       "      <td>2.502889</td>\n",
       "      <td>0.0</td>\n",
       "      <td>0.0</td>\n",
       "      <td>0.0</td>\n",
       "      <td>3.0</td>\n",
       "      <td>8.0</td>\n",
       "    </tr>\n",
       "    <tr>\n",
       "      <th>1</th>\n",
       "      <td>65.0</td>\n",
       "      <td>0.676923</td>\n",
       "      <td>1.768719</td>\n",
       "      <td>0.0</td>\n",
       "      <td>0.0</td>\n",
       "      <td>0.0</td>\n",
       "      <td>0.0</td>\n",
       "      <td>7.0</td>\n",
       "    </tr>\n",
       "  </tbody>\n",
       "</table>\n",
       "</div>"
      ],
      "text/plain": [
       "       count      mean       std  min  25%  50%  75%  max\n",
       "Churn                                                    \n",
       "0      135.0  1.451852  2.502889  0.0  0.0  0.0  3.0  8.0\n",
       "1       65.0  0.676923  1.768719  0.0  0.0  0.0  0.0  7.0"
      ]
     },
     "execution_count": 35,
     "metadata": {},
     "output_type": "execute_result"
    }
   ],
   "source": [
    "# Statistik deskriptif SpecialProjectsCount berdasarkan churn\n",
    "data_train['SpecialProjectsCount'].groupby(data_train['Churn']).describe()"
   ]
  },
  {
   "cell_type": "code",
   "execution_count": 36,
   "id": "8d355f95",
   "metadata": {},
   "outputs": [
    {
     "data": {
      "text/plain": [
       "<AxesSubplot:xlabel='Churn', ylabel='SpecialProjectsCount'>"
      ]
     },
     "execution_count": 36,
     "metadata": {},
     "output_type": "execute_result"
    },
    {
     "data": {
      "image/png": "[encoded data removed]",
      "text/plain": [
       "<Figure size 432x288 with 1 Axes>"
      ]
     },
     "metadata": {
      "needs_background": "light"
     },
     "output_type": "display_data"
    }
   ],
   "source": [
    "# Boxplot SpecialProjectsCount berdasarkan churn\n",
    "sns.boxplot(data = data_train,\n",
    "            x = 'Churn',\n",
    "            y = 'SpecialProjectsCount')"
   ]
  },
  {
   "cell_type": "code",
   "execution_count": 37,
   "id": "3d5435c6",
   "metadata": {},
   "outputs": [
    {
     "data": {
      "text/plain": [
       "<seaborn.axisgrid.FacetGrid at 0x17acaf62a60>"
      ]
     },
     "execution_count": 37,
     "metadata": {},
     "output_type": "execute_result"
    },
    {
     "data": {
      "image/png": "[encoded data removed]",
      "text/plain": [
       "<Figure size 402.375x360 with 1 Axes>"
      ]
     },
     "metadata": {
      "needs_background": "light"
     },
     "output_type": "display_data"
    }
   ],
   "source": [
    "# Distribusi SpecialProjectsCount berdasarkan churn\n",
    "sns.displot(data = data_train,\n",
    "            x = 'SpecialProjectsCount',\n",
    "            hue = 'Churn',\n",
    "            kind = 'kde')"
   ]
  },
  {
   "cell_type": "markdown",
   "id": "e9f58b65",
   "metadata": {},
   "source": [
    "**Summay:**\n",
    "\n",
    "\n",
    "Jumlah special projects yang dikerjakan pegawai yang resign berada pada niai 0 dan diatas 3. Hal ini bisa menjadi penyebab karyawan resign karena tidak menangani project apapun atau menangani project terlalu banyak."
   ]
  },
  {
   "cell_type": "code",
   "execution_count": 38,
   "id": "f4a2b17f",
   "metadata": {},
   "outputs": [
    {
     "data": {
      "text/plain": [
       "False"
      ]
     },
     "execution_count": 38,
     "metadata": {},
     "output_type": "execute_result"
    }
   ],
   "source": [
    "# Cek missing value\n",
    "data_train['SpecialProjectsCount'].isnull().any()"
   ]
  },
  {
   "cell_type": "markdown",
   "id": "89043586",
   "metadata": {},
   "source": [
    "**Pre-processing Plan:**\n",
    "- Tidak ada outlier dan missing values dari `SpecialProjectsCount`."
   ]
  },
  {
   "cell_type": "markdown",
   "id": "3ce4cf97",
   "metadata": {},
   "source": [
    "## Predictor 6: DaysLateLast30       \n",
    "\n",
    "---\n",
    "Jumlah hari keterlambatan masuk kerja pegawai dalam waktu 30 hari terakhir"
   ]
  },
  {
   "cell_type": "code",
   "execution_count": 39,
   "id": "548546ff",
   "metadata": {},
   "outputs": [
    {
     "data": {
      "text/plain": [
       "count    200.00000\n",
       "mean       0.31500\n",
       "std        1.08242\n",
       "min        0.00000\n",
       "25%        0.00000\n",
       "50%        0.00000\n",
       "75%        0.00000\n",
       "max        6.00000\n",
       "Name: DaysLateLast30, dtype: float64"
      ]
     },
     "execution_count": 39,
     "metadata": {},
     "output_type": "execute_result"
    }
   ],
   "source": [
    "# Statistik deskriptif DaysLateLast30\n",
    "data_train['DaysLateLast30'].describe()"
   ]
  },
  {
   "cell_type": "code",
   "execution_count": 40,
   "id": "6c4dc511",
   "metadata": {},
   "outputs": [
    {
     "data": {
      "text/plain": [
       "<AxesSubplot:xlabel='DaysLateLast30', ylabel='Count'>"
      ]
     },
     "execution_count": 40,
     "metadata": {},
     "output_type": "execute_result"
    },
    {
     "data": {
      "image/png": "[encoded data removed]",
      "text/plain": [
       "<Figure size 432x288 with 1 Axes>"
      ]
     },
     "metadata": {
      "needs_background": "light"
     },
     "output_type": "display_data"
    }
   ],
   "source": [
    "# Distribusi DaysLateLast30\n",
    "sns.histplot(data = data_train,\n",
    "             x = 'DaysLateLast30')"
   ]
  },
  {
   "cell_type": "code",
   "execution_count": 41,
   "id": "265997eb",
   "metadata": {},
   "outputs": [
    {
     "data": {
      "text/html": [
       "<div>\n",
       "<style scoped>\n",
       "    .dataframe tbody tr th:only-of-type {\n",
       "        vertical-align: middle;\n",
       "    }\n",
       "\n",
       "    .dataframe tbody tr th {\n",
       "        vertical-align: top;\n",
       "    }\n",
       "\n",
       "    .dataframe thead th {\n",
       "        text-align: right;\n",
       "    }\n",
       "</style>\n",
       "<table border=\"1\" class=\"dataframe\">\n",
       "  <thead>\n",
       "    <tr style=\"text-align: right;\">\n",
       "      <th></th>\n",
       "      <th>count</th>\n",
       "      <th>mean</th>\n",
       "      <th>std</th>\n",
       "      <th>min</th>\n",
       "      <th>25%</th>\n",
       "      <th>50%</th>\n",
       "      <th>75%</th>\n",
       "      <th>max</th>\n",
       "    </tr>\n",
       "    <tr>\n",
       "      <th>Churn</th>\n",
       "      <th></th>\n",
       "      <th></th>\n",
       "      <th></th>\n",
       "      <th></th>\n",
       "      <th></th>\n",
       "      <th></th>\n",
       "      <th></th>\n",
       "      <th></th>\n",
       "    </tr>\n",
       "  </thead>\n",
       "  <tbody>\n",
       "    <tr>\n",
       "      <th>0</th>\n",
       "      <td>135.0</td>\n",
       "      <td>0.185185</td>\n",
       "      <td>0.821222</td>\n",
       "      <td>0.0</td>\n",
       "      <td>0.0</td>\n",
       "      <td>0.0</td>\n",
       "      <td>0.0</td>\n",
       "      <td>6.0</td>\n",
       "    </tr>\n",
       "    <tr>\n",
       "      <th>1</th>\n",
       "      <td>65.0</td>\n",
       "      <td>0.584615</td>\n",
       "      <td>1.456583</td>\n",
       "      <td>0.0</td>\n",
       "      <td>0.0</td>\n",
       "      <td>0.0</td>\n",
       "      <td>0.0</td>\n",
       "      <td>5.0</td>\n",
       "    </tr>\n",
       "  </tbody>\n",
       "</table>\n",
       "</div>"
      ],
      "text/plain": [
       "       count      mean       std  min  25%  50%  75%  max\n",
       "Churn                                                    \n",
       "0      135.0  0.185185  0.821222  0.0  0.0  0.0  0.0  6.0\n",
       "1       65.0  0.584615  1.456583  0.0  0.0  0.0  0.0  5.0"
      ]
     },
     "execution_count": 41,
     "metadata": {},
     "output_type": "execute_result"
    }
   ],
   "source": [
    "# Statistik deskriptif DaysLateLast30 berdasarkan churn\n",
    "data_train['DaysLateLast30'].groupby(data_train['Churn']).describe()"
   ]
  },
  {
   "cell_type": "code",
   "execution_count": 42,
   "id": "17e11c32",
   "metadata": {},
   "outputs": [
    {
     "data": {
      "text/plain": [
       "<AxesSubplot:xlabel='Churn', ylabel='DaysLateLast30'>"
      ]
     },
     "execution_count": 42,
     "metadata": {},
     "output_type": "execute_result"
    },
    {
     "data": {
      "image/png": "[encoded data removed]",
      "text/plain": [
       "<Figure size 432x288 with 1 Axes>"
      ]
     },
     "metadata": {
      "needs_background": "light"
     },
     "output_type": "display_data"
    }
   ],
   "source": [
    "# Boxplot DaysLateLast30 berdasarkan churn\n",
    "sns.boxplot(data = data_train,\n",
    "            x = 'Churn',\n",
    "            y = 'DaysLateLast30')"
   ]
  },
  {
   "cell_type": "code",
   "execution_count": 43,
   "id": "5278fa37",
   "metadata": {},
   "outputs": [
    {
     "data": {
      "text/plain": [
       "<seaborn.axisgrid.FacetGrid at 0x17acb0a4400>"
      ]
     },
     "execution_count": 43,
     "metadata": {},
     "output_type": "execute_result"
    },
    {
     "data": {
      "image/png": "[encoded data removed]",
      "text/plain": [
       "<Figure size 402.375x360 with 1 Axes>"
      ]
     },
     "metadata": {
      "needs_background": "light"
     },
     "output_type": "display_data"
    }
   ],
   "source": [
    "# Distribusi DaysLateLast30 berdasarkan churn\n",
    "sns.displot(data = data_train,\n",
    "            x = 'DaysLateLast30',\n",
    "            hue = 'Churn',\n",
    "            kind = 'kde')"
   ]
  },
  {
   "cell_type": "markdown",
   "id": "b94bf37f",
   "metadata": {},
   "source": [
    "**Summay:**\n",
    "\n",
    "\n",
    "Jumlah keterlambatan dalam 30 hari terakhir pegawai yang resign dan yang tidak resign memiliki distribusi yang sama, yaitu tinggi pada pegawai yang tidak pernah telat dalam kurun waktu 30 tahun terakhir."
   ]
  },
  {
   "cell_type": "code",
   "execution_count": 44,
   "id": "ace438fc",
   "metadata": {},
   "outputs": [
    {
     "data": {
      "text/plain": [
       "False"
      ]
     },
     "execution_count": 44,
     "metadata": {},
     "output_type": "execute_result"
    }
   ],
   "source": [
    "# Cek missing value\n",
    "data_train['DaysLateLast30'].isnull().any()"
   ]
  },
  {
   "cell_type": "markdown",
   "id": "26d399e7",
   "metadata": {},
   "source": [
    "**Pre-processing Plan:**\n",
    "- Tidak ada outlier dan missing values dari `DaysLateLast30`."
   ]
  },
  {
   "cell_type": "markdown",
   "id": "5898c697",
   "metadata": {},
   "source": [
    "## Predictor 7: Absences       \n",
    "\n",
    "---\n",
    "Jumlah ketidakhadiran kerja pegawai"
   ]
  },
  {
   "cell_type": "code",
   "execution_count": 45,
   "id": "4069602b",
   "metadata": {},
   "outputs": [
    {
     "data": {
      "text/plain": [
       "count    200.00000\n",
       "mean      10.32500\n",
       "std        5.98905\n",
       "min        1.00000\n",
       "25%        4.75000\n",
       "50%       11.00000\n",
       "75%       16.00000\n",
       "max       20.00000\n",
       "Name: Absences, dtype: float64"
      ]
     },
     "execution_count": 45,
     "metadata": {},
     "output_type": "execute_result"
    }
   ],
   "source": [
    "# Statistik deskriptif Absences\n",
    "data_train['Absences'].describe()"
   ]
  },
  {
   "cell_type": "code",
   "execution_count": 46,
   "id": "5cd02f6b",
   "metadata": {},
   "outputs": [
    {
     "data": {
      "text/plain": [
       "<AxesSubplot:xlabel='Absences', ylabel='Count'>"
      ]
     },
     "execution_count": 46,
     "metadata": {},
     "output_type": "execute_result"
    },
    {
     "data": {
      "image/png": "[encoded data removed]",
      "text/plain": [
       "<Figure size 432x288 with 1 Axes>"
      ]
     },
     "metadata": {
      "needs_background": "light"
     },
     "output_type": "display_data"
    }
   ],
   "source": [
    "# Distribusi Absences\n",
    "sns.histplot(data = data_train,\n",
    "             x = 'Absences')"
   ]
  },
  {
   "cell_type": "code",
   "execution_count": 47,
   "id": "9bc512db",
   "metadata": {},
   "outputs": [
    {
     "data": {
      "text/html": [
       "<div>\n",
       "<style scoped>\n",
       "    .dataframe tbody tr th:only-of-type {\n",
       "        vertical-align: middle;\n",
       "    }\n",
       "\n",
       "    .dataframe tbody tr th {\n",
       "        vertical-align: top;\n",
       "    }\n",
       "\n",
       "    .dataframe thead th {\n",
       "        text-align: right;\n",
       "    }\n",
       "</style>\n",
       "<table border=\"1\" class=\"dataframe\">\n",
       "  <thead>\n",
       "    <tr style=\"text-align: right;\">\n",
       "      <th></th>\n",
       "      <th>count</th>\n",
       "      <th>mean</th>\n",
       "      <th>std</th>\n",
       "      <th>min</th>\n",
       "      <th>25%</th>\n",
       "      <th>50%</th>\n",
       "      <th>75%</th>\n",
       "      <th>max</th>\n",
       "    </tr>\n",
       "    <tr>\n",
       "      <th>Churn</th>\n",
       "      <th></th>\n",
       "      <th></th>\n",
       "      <th></th>\n",
       "      <th></th>\n",
       "      <th></th>\n",
       "      <th></th>\n",
       "      <th></th>\n",
       "      <th></th>\n",
       "    </tr>\n",
       "  </thead>\n",
       "  <tbody>\n",
       "    <tr>\n",
       "      <th>0</th>\n",
       "      <td>135.0</td>\n",
       "      <td>9.570370</td>\n",
       "      <td>5.867366</td>\n",
       "      <td>1.0</td>\n",
       "      <td>4.0</td>\n",
       "      <td>9.0</td>\n",
       "      <td>15.0</td>\n",
       "      <td>20.0</td>\n",
       "    </tr>\n",
       "    <tr>\n",
       "      <th>1</th>\n",
       "      <td>65.0</td>\n",
       "      <td>11.892308</td>\n",
       "      <td>5.979452</td>\n",
       "      <td>1.0</td>\n",
       "      <td>7.0</td>\n",
       "      <td>13.0</td>\n",
       "      <td>17.0</td>\n",
       "      <td>20.0</td>\n",
       "    </tr>\n",
       "  </tbody>\n",
       "</table>\n",
       "</div>"
      ],
      "text/plain": [
       "       count       mean       std  min  25%   50%   75%   max\n",
       "Churn                                                        \n",
       "0      135.0   9.570370  5.867366  1.0  4.0   9.0  15.0  20.0\n",
       "1       65.0  11.892308  5.979452  1.0  7.0  13.0  17.0  20.0"
      ]
     },
     "execution_count": 47,
     "metadata": {},
     "output_type": "execute_result"
    }
   ],
   "source": [
    "# Statistik deskriptif Absences berdasarkan churn\n",
    "data_train['Absences'].groupby(data_train['Churn']).describe()"
   ]
  },
  {
   "cell_type": "code",
   "execution_count": 48,
   "id": "51b542b7",
   "metadata": {},
   "outputs": [
    {
     "data": {
      "text/plain": [
       "<AxesSubplot:xlabel='Churn', ylabel='Absences'>"
      ]
     },
     "execution_count": 48,
     "metadata": {},
     "output_type": "execute_result"
    },
    {
     "data": {
      "image/png": "[encoded data removed]",
      "text/plain": [
       "<Figure size 432x288 with 1 Axes>"
      ]
     },
     "metadata": {
      "needs_background": "light"
     },
     "output_type": "display_data"
    }
   ],
   "source": [
    "# Boxplot Absences berdasarkan churn\n",
    "sns.boxplot(data = data_train,\n",
    "            x = 'Churn',\n",
    "            y = 'Absences')"
   ]
  },
  {
   "cell_type": "code",
   "execution_count": 49,
   "id": "7da8db56",
   "metadata": {},
   "outputs": [
    {
     "data": {
      "text/plain": [
       "<seaborn.axisgrid.FacetGrid at 0x17acc1cd280>"
      ]
     },
     "execution_count": 49,
     "metadata": {},
     "output_type": "execute_result"
    },
    {
     "data": {
      "image/png": "[encoded data removed]",
      "text/plain": [
       "<Figure size 402.375x360 with 1 Axes>"
      ]
     },
     "metadata": {
      "needs_background": "light"
     },
     "output_type": "display_data"
    }
   ],
   "source": [
    "# Distribusi Absences berdasarkan churn\n",
    "sns.displot(data = data_train,\n",
    "            x = 'Absences',\n",
    "            hue = 'Churn',\n",
    "            kind = 'kde')"
   ]
  },
  {
   "cell_type": "markdown",
   "id": "3b83bf7f",
   "metadata": {},
   "source": [
    "**Summay:**\n",
    "\n",
    "\n",
    "Distribusi jumlah ketidakhadiran pegawai yang resign meningkat pada 7 hingga 17. Hal ini bisa menjadi indikasi pegawai resign akan memiliki banyak absen."
   ]
  },
  {
   "cell_type": "code",
   "execution_count": 50,
   "id": "cd76a1ff",
   "metadata": {},
   "outputs": [
    {
     "data": {
      "text/plain": [
       "False"
      ]
     },
     "execution_count": 50,
     "metadata": {},
     "output_type": "execute_result"
    }
   ],
   "source": [
    "# Cek missing value\n",
    "data_train['Absences'].isnull().any()"
   ]
  },
  {
   "cell_type": "markdown",
   "id": "926c04eb",
   "metadata": {},
   "source": [
    "**Pre-processing Plan:**\n",
    "- Tidak ada outlier dan missing values dari `Absences`."
   ]
  },
  {
   "cell_type": "markdown",
   "id": "ff23a923",
   "metadata": {},
   "source": [
    "## Predictor 8: Age       \n",
    "\n",
    "---\n",
    "Umur pegawai"
   ]
  },
  {
   "cell_type": "code",
   "execution_count": 51,
   "id": "6d1c53b3",
   "metadata": {},
   "outputs": [
    {
     "data": {
      "text/plain": [
       "count    200.000000\n",
       "mean      41.300000\n",
       "std        8.337721\n",
       "min       28.000000\n",
       "25%       35.000000\n",
       "50%       40.000000\n",
       "75%       47.000000\n",
       "max       70.000000\n",
       "Name: Age, dtype: float64"
      ]
     },
     "execution_count": 51,
     "metadata": {},
     "output_type": "execute_result"
    }
   ],
   "source": [
    "# Statistik deskriptif Age\n",
    "data_train['Age'].describe()"
   ]
  },
  {
   "cell_type": "code",
   "execution_count": 52,
   "id": "75f81a46",
   "metadata": {},
   "outputs": [
    {
     "data": {
      "text/plain": [
       "<AxesSubplot:xlabel='Age', ylabel='Count'>"
      ]
     },
     "execution_count": 52,
     "metadata": {},
     "output_type": "execute_result"
    },
    {
     "data": {
      "image/png": "[encoded data removed]",
      "text/plain": [
       "<Figure size 432x288 with 1 Axes>"
      ]
     },
     "metadata": {
      "needs_background": "light"
     },
     "output_type": "display_data"
    }
   ],
   "source": [
    "# Distribusi Age\n",
    "sns.histplot(data = data_train,\n",
    "             x = 'Age')"
   ]
  },
  {
   "cell_type": "code",
   "execution_count": 53,
   "id": "19fee1c2",
   "metadata": {},
   "outputs": [
    {
     "data": {
      "text/html": [
       "<div>\n",
       "<style scoped>\n",
       "    .dataframe tbody tr th:only-of-type {\n",
       "        vertical-align: middle;\n",
       "    }\n",
       "\n",
       "    .dataframe tbody tr th {\n",
       "        vertical-align: top;\n",
       "    }\n",
       "\n",
       "    .dataframe thead th {\n",
       "        text-align: right;\n",
       "    }\n",
       "</style>\n",
       "<table border=\"1\" class=\"dataframe\">\n",
       "  <thead>\n",
       "    <tr style=\"text-align: right;\">\n",
       "      <th></th>\n",
       "      <th>count</th>\n",
       "      <th>mean</th>\n",
       "      <th>std</th>\n",
       "      <th>min</th>\n",
       "      <th>25%</th>\n",
       "      <th>50%</th>\n",
       "      <th>75%</th>\n",
       "      <th>max</th>\n",
       "    </tr>\n",
       "    <tr>\n",
       "      <th>Churn</th>\n",
       "      <th></th>\n",
       "      <th></th>\n",
       "      <th></th>\n",
       "      <th></th>\n",
       "      <th></th>\n",
       "      <th></th>\n",
       "      <th></th>\n",
       "      <th></th>\n",
       "    </tr>\n",
       "  </thead>\n",
       "  <tbody>\n",
       "    <tr>\n",
       "      <th>0</th>\n",
       "      <td>135.0</td>\n",
       "      <td>40.740741</td>\n",
       "      <td>8.157007</td>\n",
       "      <td>28.0</td>\n",
       "      <td>34.0</td>\n",
       "      <td>39.0</td>\n",
       "      <td>45.5</td>\n",
       "      <td>70.0</td>\n",
       "    </tr>\n",
       "    <tr>\n",
       "      <th>1</th>\n",
       "      <td>65.0</td>\n",
       "      <td>42.461538</td>\n",
       "      <td>8.649561</td>\n",
       "      <td>29.0</td>\n",
       "      <td>36.0</td>\n",
       "      <td>42.0</td>\n",
       "      <td>48.0</td>\n",
       "      <td>69.0</td>\n",
       "    </tr>\n",
       "  </tbody>\n",
       "</table>\n",
       "</div>"
      ],
      "text/plain": [
       "       count       mean       std   min   25%   50%   75%   max\n",
       "Churn                                                          \n",
       "0      135.0  40.740741  8.157007  28.0  34.0  39.0  45.5  70.0\n",
       "1       65.0  42.461538  8.649561  29.0  36.0  42.0  48.0  69.0"
      ]
     },
     "execution_count": 53,
     "metadata": {},
     "output_type": "execute_result"
    }
   ],
   "source": [
    "# Statistik deskriptif Age berdasarkan churn\n",
    "data_train['Age'].groupby(data_train['Churn']).describe()"
   ]
  },
  {
   "cell_type": "code",
   "execution_count": 54,
   "id": "4effe4b0",
   "metadata": {},
   "outputs": [
    {
     "data": {
      "text/plain": [
       "<AxesSubplot:xlabel='Churn', ylabel='Age'>"
      ]
     },
     "execution_count": 54,
     "metadata": {},
     "output_type": "execute_result"
    },
    {
     "data": {
      "image/png": "[encoded data removed]",
      "text/plain": [
       "<Figure size 432x288 with 1 Axes>"
      ]
     },
     "metadata": {
      "needs_background": "light"
     },
     "output_type": "display_data"
    }
   ],
   "source": [
    "# Boxplot Age berdasarkan churn\n",
    "sns.boxplot(data = data_train,\n",
    "            x = 'Churn',\n",
    "            y = 'Age')"
   ]
  },
  {
   "cell_type": "code",
   "execution_count": 55,
   "id": "ece8e5a4",
   "metadata": {},
   "outputs": [
    {
     "data": {
      "text/plain": [
       "<seaborn.axisgrid.FacetGrid at 0x17acc336f40>"
      ]
     },
     "execution_count": 55,
     "metadata": {},
     "output_type": "execute_result"
    },
    {
     "data": {
      "image/png": "[encoded data removed]",
      "text/plain": [
       "<Figure size 402.375x360 with 1 Axes>"
      ]
     },
     "metadata": {
      "needs_background": "light"
     },
     "output_type": "display_data"
    }
   ],
   "source": [
    "# Distribusi Age berdasarkan churn\n",
    "sns.displot(data = data_train,\n",
    "            x = 'Age',\n",
    "            hue = 'Churn',\n",
    "            kind = 'kde')"
   ]
  },
  {
   "cell_type": "markdown",
   "id": "fa8894dd",
   "metadata": {},
   "source": [
    "**Summay:**\n",
    "\n",
    "\n",
    "Umur pegawai yang resign dan yang aktif/tidak resign memiliki distribusi yang sama. Pegawai yang resign meningkat pada rentang umur 35 hingga 48 tahun."
   ]
  },
  {
   "cell_type": "code",
   "execution_count": 56,
   "id": "036709a6",
   "metadata": {},
   "outputs": [
    {
     "data": {
      "text/plain": [
       "False"
      ]
     },
     "execution_count": 56,
     "metadata": {},
     "output_type": "execute_result"
    }
   ],
   "source": [
    "# Cek missing value\n",
    "data_train['Age'].isnull().any()"
   ]
  },
  {
   "cell_type": "markdown",
   "id": "7509e9c7",
   "metadata": {},
   "source": [
    "**Pre-processing Plan:**\n",
    "- Tidak ada outlier dan missing values dari `Age`."
   ]
  },
  {
   "cell_type": "markdown",
   "id": "5477a1ef",
   "metadata": {},
   "source": [
    "# Pre-processing\n",
    "---"
   ]
  },
  {
   "cell_type": "markdown",
   "id": "693a5a8b",
   "metadata": {},
   "source": [
    "## Make Dummies\n",
    "---"
   ]
  },
  {
   "cell_type": "markdown",
   "id": "d8003f42",
   "metadata": {},
   "source": [
    "Berdasarkan EDA, ada 3 prediktor kategorik yaitu `LevelID`, `PerfScoreID` , dan `EmpSatisfaction`. Prediktor `EmpSatisfaction` sudah menjadi ordinal dalam bentuk angka. Sedangkan prediktor `LevelID` dan  `PerfScoreID` harus dilakukan transformasi. Kedua prediktor tersebut ordinal. Sehingga, transformasi kategorik menjadi numerik diurutkan dari level terendah hingga level tertinggi."
   ]
  },
  {
   "cell_type": "code",
   "execution_count": 57,
   "id": "71042ad9",
   "metadata": {},
   "outputs": [],
   "source": [
    "# Dict LevelID\n",
    "level = {\n",
    "    \"Junior\" : 1,\n",
    "    \"Middle\": 2, \n",
    "    \"Senior\": 3\n",
    "}\n",
    "\n",
    "# Dict PerfScoreID\n",
    "perf = {\n",
    "    \"Special treatment\" : 1,\n",
    "    \"Need improvement\": 2,\n",
    "    \"Average\": 3,\n",
    "    \"Fully meets\": 4,\n",
    "    \"Exceed\": 5\n",
    "}\n",
    " \n",
    "# Transformasi kategorik menjadi numerik pada data Train\n",
    "data_train['LevelID'] = data_train['LevelID'].map(level)\n",
    "data_train['PerfScoreID'] = data_train['PerfScoreID'].map(perf)\n",
    "\n",
    "# Transformasi kategorik menjadi numerik pada data Test\n",
    "X_test['LevelID'] = X_test['LevelID'].map(level)\n",
    "X_test['PerfScoreID'] = X_test['PerfScoreID'].map(perf)"
   ]
  },
  {
   "cell_type": "markdown",
   "id": "9e6d57e8",
   "metadata": {},
   "source": [
    "## Data Balancing - Random Oversampling (ROS)\n",
    "---"
   ]
  },
  {
   "cell_type": "code",
   "execution_count": 58,
   "id": "fb7e70c7",
   "metadata": {},
   "outputs": [
    {
     "name": "stdout",
     "output_type": "stream",
     "text": [
      "data_train old shape: (200, 9)\n"
     ]
    }
   ],
   "source": [
    "# Cek training set\n",
    "print('data_train old shape:', data_train.shape)"
   ]
  },
  {
   "cell_type": "code",
   "execution_count": 59,
   "id": "1b553513",
   "metadata": {},
   "outputs": [
    {
     "data": {
      "text/plain": [
       "0    135\n",
       "1     65\n",
       "Name: Churn, dtype: int64"
      ]
     },
     "execution_count": 59,
     "metadata": {},
     "output_type": "execute_result"
    }
   ],
   "source": [
    "# Cek jumlah variabel Respon\n",
    "data_train['Churn'].value_counts()"
   ]
  },
  {
   "cell_type": "code",
   "execution_count": 60,
   "id": "20b56ca3",
   "metadata": {},
   "outputs": [
    {
     "data": {
      "text/plain": [
       "<AxesSubplot:xlabel='Churn', ylabel='count'>"
      ]
     },
     "execution_count": 60,
     "metadata": {},
     "output_type": "execute_result"
    },
    {
     "data": {
      "image/png": "[encoded data removed]",
      "text/plain": [
       "<Figure size 432x288 with 1 Axes>"
      ]
     },
     "metadata": {
      "needs_background": "light"
     },
     "output_type": "display_data"
    }
   ],
   "source": [
    "# Cek proporsi sebelum balancing\n",
    "sns.countplot(data = data_train,\n",
    "              x = 'Churn',\n",
    "              hue = 'Churn',\n",
    "              dodge = False)"
   ]
  },
  {
   "cell_type": "markdown",
   "id": "6340bf6f",
   "metadata": {},
   "source": [
    "Mempertimbangkan dataset yang kecil, maka teknik balancing yang digunakan yaitu ***Random Oversampling (ROS)***"
   ]
  },
  {
   "cell_type": "code",
   "execution_count": 61,
   "id": "576995d6",
   "metadata": {},
   "outputs": [],
   "source": [
    "def ros_fit_resample(data_train: pd.DataFrame, response_variable) -> pd.DataFrame:\n",
    "\n",
    "    # Create copy of set data\n",
    "    data_train = data_train.copy()\n",
    "\n",
    "    # Create sampling object\n",
    "    ros = RandomOverSampler(random_state = 42)\n",
    "\n",
    "    # Balancing data set\n",
    "    x_ros, y_ros = ros.fit_resample(data_train.drop([response_variable], axis = 1),\n",
    "                                    data_train[response_variable])\n",
    "\n",
    "    # Concatenate balanced data set\n",
    "    data_train_ros = pd.concat([x_ros, y_ros], axis = 1)\n",
    "\n",
    "    # Return balanced data set\n",
    "    return data_train_ros"
   ]
  },
  {
   "cell_type": "code",
   "execution_count": 62,
   "id": "57297385",
   "metadata": {},
   "outputs": [],
   "source": [
    "# Perform ROS\n",
    "data_train_ros = ros_fit_resample(data_train = data_train,\n",
    "                                  response_variable = 'Churn')"
   ]
  },
  {
   "cell_type": "code",
   "execution_count": 63,
   "id": "367788d4",
   "metadata": {},
   "outputs": [
    {
     "data": {
      "text/plain": [
       "<AxesSubplot:xlabel='Churn', ylabel='count'>"
      ]
     },
     "execution_count": 63,
     "metadata": {},
     "output_type": "execute_result"
    },
    {
     "data": {
      "image/png": "[encoded data removed]",
      "text/plain": [
       "<Figure size 432x288 with 1 Axes>"
      ]
     },
     "metadata": {
      "needs_background": "light"
     },
     "output_type": "display_data"
    }
   ],
   "source": [
    "# Cek proporsi pada kategori respon\n",
    "sns.countplot(data = data_train_ros,\n",
    "              x = 'Churn',\n",
    "              hue = 'Churn',\n",
    "              dodge = False)"
   ]
  },
  {
   "cell_type": "code",
   "execution_count": 64,
   "id": "10dac92f",
   "metadata": {},
   "outputs": [
    {
     "data": {
      "text/plain": [
       "0    135\n",
       "1    135\n",
       "Name: Churn, dtype: int64"
      ]
     },
     "execution_count": 64,
     "metadata": {},
     "output_type": "execute_result"
    }
   ],
   "source": [
    "# Cek balanced response\n",
    "data_train_ros['Churn'].value_counts()"
   ]
  },
  {
   "cell_type": "markdown",
   "id": "560d7f4c",
   "metadata": {},
   "source": [
    "# Model Selection"
   ]
  },
  {
   "cell_type": "code",
   "execution_count": 65,
   "id": "0afcf9f3",
   "metadata": {},
   "outputs": [],
   "source": [
    "def AIC(y_true, y_pred, p):\n",
    "    \"\"\"\n",
    "    Function to split sample with validation set approach.\n",
    "\n",
    "    Parameters\n",
    "    ----------\n",
    "    y_true : {array-like} of shape (n_sample, )\n",
    "        Actual value of response variable.\n",
    "\n",
    "    y_pred : {array-like} of shape (n_sample, 1)\n",
    "        The success probability of X.\n",
    "\n",
    "    p : int\n",
    "        Number of parameters in model.\n",
    "\n",
    "    Returns\n",
    "    -------\n",
    "    aic : float\n",
    "        AIC value.\n",
    "    \"\"\"\n",
    "    # Find the average log likelihood value\n",
    "    llf = np.mean(y_true*np.log(y_pred) + (1-y_true)*np.log(1-y_pred))\n",
    "\n",
    "    # AIC value is sensitive to number of parameters\n",
    "    # The average log likelihood represent value for 1 unit observation\n",
    "    # AIC from average llf is not comparable\n",
    "    # Multiply llf by n_sample=173 to make its AIC comparable\n",
    "    llf *= data_train.shape[0]\n",
    "\n",
    "    # Calculate AIC\n",
    "    aic = -2 * (llf - p)\n",
    "\n",
    "    return aic"
   ]
  },
  {
   "cell_type": "code",
   "execution_count": 66,
   "id": "115aee0c",
   "metadata": {},
   "outputs": [],
   "source": [
    "def kfold_split(X, k=5, random_state=42):\n",
    "    \"\"\"\n",
    "    Function to split sample with validation set approach.\n",
    "\n",
    "    Parameters\n",
    "    ----------\n",
    "    X : {array-like} of shape (n_sample, n_predictors)\n",
    "        All predictors set.\n",
    "\n",
    "    k : int, default = 5\n",
    "        Number of folds.\n",
    "\n",
    "    random_state : int\n",
    "        Pass an int for reproducible output across multiple function calls.\n",
    "\n",
    "    Returns\n",
    "    -------\n",
    "    train_ind_list : list\n",
    "        Contains data index of train set.\n",
    "\n",
    "    valid_ind_list : list\n",
    "        Contains data index of validation set.\n",
    "    \"\"\"\n",
    "    # Extract sample size\n",
    "    n_samples, _ = X.shape\n",
    "\n",
    "    # Set random state\n",
    "    np.random.seed(random_state)\n",
    "\n",
    "    # # Randomize index\n",
    "    random_ind = np.random.choice(n_samples,\n",
    "                                  size = n_samples,\n",
    "                                  replace = False)\n",
    "\n",
    "    # Calculate size of each fold\n",
    "    fold_sizes = np.ones(k, dtype=int) * (n_samples//k)\n",
    "    fold_sizes[:n_samples%k] += 1\n",
    "\n",
    "    # Define initial list for each train and valid index\n",
    "    train_ind_list = []\n",
    "    valid_ind_list = []\n",
    "\n",
    "    # Split sample\n",
    "    current_ind = 0\n",
    "    for size in fold_sizes:\n",
    "        # Define index\n",
    "        start_ind = current_ind\n",
    "        end_ind = current_ind + size\n",
    "\n",
    "        # Slice valid set\n",
    "        # One fold for valid set, the remaining for train set\n",
    "        valid_ind = random_ind[start_ind:end_ind]\n",
    "        train_ind = np.concatenate((random_ind[:start_ind],\n",
    "                                    random_ind[end_ind:]))\n",
    "\n",
    "        # Update current index\n",
    "        current_ind = end_ind\n",
    "\n",
    "        # Append train and valid index in list\n",
    "        train_ind_list.append(train_ind)\n",
    "        valid_ind_list.append(valid_ind)\n",
    "\n",
    "    return train_ind_list, valid_ind_list"
   ]
  },
  {
   "cell_type": "code",
   "execution_count": 67,
   "id": "51fc00b5",
   "metadata": {},
   "outputs": [],
   "source": [
    "def cross_validate(X, y, method, cv, random_state=42):\n",
    "    \"\"\"\n",
    "    Function to evaluate AIC by cross-validation method.\n",
    "\n",
    "    Parameters\n",
    "    ----------\n",
    "    X : {array-like} of shape (n_sample, n_predictors)\n",
    "        The independent variable or predictors.\n",
    "\n",
    "    y : {array-like} of shape (n_sample, )\n",
    "        The dependent or response variable.\n",
    "\n",
    "    method : cross-validation splitter\n",
    "        Cross-validation method.\n",
    "\n",
    "    cv : int\n",
    "        Number of folds for k-Fold CV.\n",
    "\n",
    "    random_state : int, default=42\n",
    "        Pass an int for reproducible output across multiple function calls.\n",
    "\n",
    "    Returns\n",
    "    -------\n",
    "    score : float\n",
    "        The average AIC score.\n",
    "    \"\"\"\n",
    "    # Split train and valid set based on CV method\n",
    "    if method == \"validation_set\":\n",
    "        train_ind_list, valid_ind_list = validation_set_split(X = X,\n",
    "                                                              random_state = random_state)\n",
    "    elif method == \"loocv\":\n",
    "        train_ind_list, valid_ind_list = loocv_split(X = X)\n",
    "    elif method == \"kfold\":\n",
    "        train_ind_list, valid_ind_list = kfold_split(X = X,\n",
    "                                                     k = cv,\n",
    "                                                     random_state = random_state)\n",
    "\n",
    "    # Define the number of train sets\n",
    "    n_split = len(train_ind_list)\n",
    "\n",
    "    # Initialize AIC score list for each valid set\n",
    "    score_list = []\n",
    "\n",
    "    for i in range(n_split):\n",
    "        # Extract data from index\n",
    "        X_train = X[train_ind_list[i]]\n",
    "        y_train = y[train_ind_list[i]]\n",
    "        X_valid = X[valid_ind_list[i]]\n",
    "        y_valid = y[valid_ind_list[i]]\n",
    "\n",
    "        # Add constant\n",
    "        X_train = sm.add_constant(X_train, has_constant=\"add\")\n",
    "        X_valid = sm.add_constant(X_valid, has_constant=\"add\")\n",
    "\n",
    "        # Fitting model\n",
    "        model = sm.Logit(y_train, X_train)\n",
    "        results = model.fit(disp=False)\n",
    "\n",
    "        # Calculate success probability\n",
    "        y_pred_train = results.predict(X_train)\n",
    "        y_pred_valid = results.predict(X_valid)\n",
    "\n",
    "        # Calculate AIC\n",
    "        aic_train = AIC(y_true = y_train,\n",
    "                        y_pred = y_pred_train,\n",
    "                        p = X_train.shape[1])\n",
    "        aic_valid = AIC(y_true = y_valid,\n",
    "                        y_pred = y_pred_valid,\n",
    "                        p = X_train.shape[1])\n",
    "\n",
    "        # Append AIC score in list\n",
    "        score_list.append(aic_valid)\n",
    "\n",
    "    # Calculate CV Score\n",
    "    score = np.mean(score_list)\n",
    "\n",
    "    return score"
   ]
  },
  {
   "cell_type": "code",
   "execution_count": 68,
   "id": "838f4188",
   "metadata": {},
   "outputs": [],
   "source": [
    "def forward(X, y, predictors, method, cv=5, random_state=42):\n",
    "    \"\"\"\n",
    "    Function to perform best subset selection procedure.\n",
    "\n",
    "    Parameters\n",
    "    ----------\n",
    "    X : {array-like} of shape (n_sample, n_predictors)\n",
    "        All predictors set.\n",
    "\n",
    "    y : {array-like} of shape (n_sample, )\n",
    "        The dependent or response variable.\n",
    "\n",
    "    predictors : {array-like} of shape (n_sample, )\n",
    "        Index of predictors\n",
    "\n",
    "    method : cross-validation splitter\n",
    "        Cross-validation method.\n",
    "\n",
    "    cv : int, default=5\n",
    "        Number of folds for k-Fold CV.\n",
    "\n",
    "    random_state : int, default=42\n",
    "        Pass an int for reproducible output across multiple function calls.\n",
    "\n",
    "    Returns\n",
    "    -------\n",
    "    models : {array-like} of shape (n_combinations, k)\n",
    "        Summary of predictors and its AIC score for each possible combination.\n",
    "\n",
    "    best_model : {array-like} of shape (2, )\n",
    "        Best model of models with the smallest AIC score.\n",
    "    \"\"\"\n",
    "\n",
    "    # Initialize list of results\n",
    "    results = []\n",
    "\n",
    "    # Define sample size and  number of all predictors\n",
    "    n_samples, n_predictors = X.shape\n",
    "\n",
    "    # Define list of all predictors\n",
    "    col_list = np.arange(n_predictors)\n",
    "\n",
    "    # Define remaining predictors for each k\n",
    "    remaining_predictors = [p for p in col_list if p not in predictors]\n",
    "\n",
    "    # Initialize list of predictors and its CV Score\n",
    "    pred_list = []\n",
    "    score_list = []\n",
    "\n",
    "    # Cross validate each possible combination of remaining predictors\n",
    "    for p in remaining_predictors:\n",
    "        combi = predictors + [p]\n",
    "\n",
    "        # Extract predictors combination\n",
    "        X_ = X[:, combi]\n",
    "        y_ = y\n",
    "\n",
    "        # Cross validate to get CV Score\n",
    "        score_ = cross_validate(X = X_,\n",
    "                                y = y_,\n",
    "                                method = method,\n",
    "                                cv = cv,\n",
    "                                random_state = random_state)\n",
    "\n",
    "        # Append predictors combination and its CV Score to the list\n",
    "        pred_list.append(list(combi))\n",
    "        score_list.append(score_)\n",
    "\n",
    "    # Tabulate the results\n",
    "    models = pd.DataFrame({\"Predictors\": pred_list,\n",
    "                            \"AIC\": score_list})\n",
    "\n",
    "    # Choose the best model\n",
    "    best_model = models.loc[models[\"AIC\"].argmin()]\n",
    "\n",
    "    return models, best_model"
   ]
  },
  {
   "cell_type": "markdown",
   "id": "31b7f775",
   "metadata": {},
   "source": [
    "## The Original Training Set\n",
    "---"
   ]
  },
  {
   "cell_type": "code",
   "execution_count": 69,
   "id": "668fc254",
   "metadata": {},
   "outputs": [
    {
     "name": "stdout",
     "output_type": "stream",
     "text": [
      "X_train shape: (200, 8)\n",
      "y_train shape: (200,)\n"
     ]
    }
   ],
   "source": [
    "# Split respon and prediktor\n",
    "y_train = data_train['Churn']\n",
    "X_train = data_train.drop(columns=['Churn'], axis=1)\n",
    "\n",
    "# Convert dataframe ke numpy\n",
    "X_train = X_train.to_numpy()\n",
    "y_train = y_train.to_numpy()\n",
    "\n",
    "print('X_train shape:', X_train.shape)\n",
    "print('y_train shape:', y_train.shape)"
   ]
  },
  {
   "cell_type": "code",
   "execution_count": 70,
   "id": "dead7dd8",
   "metadata": {},
   "outputs": [
    {
     "data": {
      "text/html": [
       "<div>\n",
       "<style scoped>\n",
       "    .dataframe tbody tr th:only-of-type {\n",
       "        vertical-align: middle;\n",
       "    }\n",
       "\n",
       "    .dataframe tbody tr th {\n",
       "        vertical-align: top;\n",
       "    }\n",
       "\n",
       "    .dataframe thead th {\n",
       "        text-align: right;\n",
       "    }\n",
       "</style>\n",
       "<table border=\"1\" class=\"dataframe\">\n",
       "  <thead>\n",
       "    <tr style=\"text-align: right;\">\n",
       "      <th></th>\n",
       "      <th>Predictors</th>\n",
       "      <th>AIC</th>\n",
       "    </tr>\n",
       "  </thead>\n",
       "  <tbody>\n",
       "    <tr>\n",
       "      <th>0</th>\n",
       "      <td>[]</td>\n",
       "      <td>255.626413</td>\n",
       "    </tr>\n",
       "  </tbody>\n",
       "</table>\n",
       "</div>"
      ],
      "text/plain": [
       "  Predictors         AIC\n",
       "0         []  255.626413"
      ]
     },
     "execution_count": 70,
     "metadata": {},
     "output_type": "execute_result"
    }
   ],
   "source": [
    "# Fit null model\n",
    "predictor = []\n",
    "score_ = cross_validate(X = X_train[:, predictor],\n",
    "                        y = y_train,\n",
    "                        method = 'kfold',\n",
    "                        cv = 5,\n",
    "                        random_state = 42)\n",
    "\n",
    "# Mendefinisakan tabel untuk best model untuk setiap k prediktor\n",
    "forward_models = pd.DataFrame({\"Predictors\": [predictor],\n",
    "                               \"AIC\": [score_]})\n",
    "\n",
    "forward_models"
   ]
  },
  {
   "cell_type": "code",
   "execution_count": 71,
   "id": "5591ae75",
   "metadata": {},
   "outputs": [],
   "source": [
    "# Definisikan list prediktor\n",
    "predictors = []\n",
    "n_predictors = X_train.shape[1]\n",
    "\n",
    "# Teknik forward selection untuk k=1,...,9 prediktor\n",
    "for k in range(n_predictors):\n",
    "    _, best_model = forward(X = X_train,\n",
    "                            y = y_train,\n",
    "                            predictors = predictors,\n",
    "                            method = \"kfold\",\n",
    "                            cv = 5,\n",
    "                            random_state = 42)\n",
    "\n",
    "    # Tabulasi best model pada masing-masing k prediktor \n",
    "    forward_models.loc[k+1] = best_model\n",
    "    predictors = best_model[\"Predictors\"]"
   ]
  },
  {
   "cell_type": "code",
   "execution_count": 72,
   "id": "4c9404b3",
   "metadata": {},
   "outputs": [
    {
     "data": {
      "text/html": [
       "<div>\n",
       "<style scoped>\n",
       "    .dataframe tbody tr th:only-of-type {\n",
       "        vertical-align: middle;\n",
       "    }\n",
       "\n",
       "    .dataframe tbody tr th {\n",
       "        vertical-align: top;\n",
       "    }\n",
       "\n",
       "    .dataframe thead th {\n",
       "        text-align: right;\n",
       "    }\n",
       "</style>\n",
       "<table border=\"1\" class=\"dataframe\">\n",
       "  <thead>\n",
       "    <tr style=\"text-align: right;\">\n",
       "      <th></th>\n",
       "      <th>Predictors</th>\n",
       "      <th>AIC</th>\n",
       "    </tr>\n",
       "  </thead>\n",
       "  <tbody>\n",
       "    <tr>\n",
       "      <th>0</th>\n",
       "      <td>[]</td>\n",
       "      <td>255.626413</td>\n",
       "    </tr>\n",
       "    <tr>\n",
       "      <th>1</th>\n",
       "      <td>[6]</td>\n",
       "      <td>252.924185</td>\n",
       "    </tr>\n",
       "    <tr>\n",
       "      <th>2</th>\n",
       "      <td>[6, 5]</td>\n",
       "      <td>250.872492</td>\n",
       "    </tr>\n",
       "    <tr>\n",
       "      <th>3</th>\n",
       "      <td>[6, 5, 4]</td>\n",
       "      <td>250.003255</td>\n",
       "    </tr>\n",
       "    <tr>\n",
       "      <th>4</th>\n",
       "      <td>[6, 5, 4, 0]</td>\n",
       "      <td>250.284722</td>\n",
       "    </tr>\n",
       "    <tr>\n",
       "      <th>5</th>\n",
       "      <td>[6, 5, 4, 0, 7]</td>\n",
       "      <td>251.646592</td>\n",
       "    </tr>\n",
       "    <tr>\n",
       "      <th>6</th>\n",
       "      <td>[6, 5, 4, 0, 7, 3]</td>\n",
       "      <td>253.505930</td>\n",
       "    </tr>\n",
       "    <tr>\n",
       "      <th>7</th>\n",
       "      <td>[6, 5, 4, 0, 7, 3, 1]</td>\n",
       "      <td>259.264685</td>\n",
       "    </tr>\n",
       "    <tr>\n",
       "      <th>8</th>\n",
       "      <td>[6, 5, 4, 0, 7, 3, 1, 2]</td>\n",
       "      <td>266.802884</td>\n",
       "    </tr>\n",
       "  </tbody>\n",
       "</table>\n",
       "</div>"
      ],
      "text/plain": [
       "                 Predictors         AIC\n",
       "0                        []  255.626413\n",
       "1                       [6]  252.924185\n",
       "2                    [6, 5]  250.872492\n",
       "3                 [6, 5, 4]  250.003255\n",
       "4              [6, 5, 4, 0]  250.284722\n",
       "5           [6, 5, 4, 0, 7]  251.646592\n",
       "6        [6, 5, 4, 0, 7, 3]  253.505930\n",
       "7     [6, 5, 4, 0, 7, 3, 1]  259.264685\n",
       "8  [6, 5, 4, 0, 7, 3, 1, 2]  266.802884"
      ]
     },
     "execution_count": 72,
     "metadata": {},
     "output_type": "execute_result"
    }
   ],
   "source": [
    "# Best model pada masing-masing k prediktor\n",
    "forward_models"
   ]
  },
  {
   "cell_type": "code",
   "execution_count": 73,
   "id": "f84b6e37",
   "metadata": {},
   "outputs": [
    {
     "name": "stdout",
     "output_type": "stream",
     "text": [
      "Best index            : 3\n",
      "Best AIC              : 250.003255366335\n",
      "Best predictors (idx) : [6, 5, 4]\n",
      "Best predictors       :\n",
      "['Absences', 'DaysLateLast30', 'SpecialProjectsCount']\n"
     ]
    }
   ],
   "source": [
    "# Best AIC score\n",
    "best_idx = forward_models['AIC'].argmin()\n",
    "best_AIC = forward_models['AIC'].loc[best_idx]\n",
    "best_predictors = forward_models['Predictors'].loc[best_idx]\n",
    "\n",
    "print('Best index            :', best_idx)\n",
    "print('Best AIC              :', best_AIC)\n",
    "print('Best predictors (idx) :', best_predictors)\n",
    "print('Best predictors       :')\n",
    "print(data_train.columns[best_predictors].tolist())"
   ]
  },
  {
   "cell_type": "code",
   "execution_count": 74,
   "id": "8941aa28",
   "metadata": {},
   "outputs": [
    {
     "name": "stdout",
     "output_type": "stream",
     "text": [
      "Optimization terminated successfully.\n",
      "         Current function value: 0.589905\n",
      "         Iterations 5\n",
      "                           Logit Regression Results                           \n",
      "==============================================================================\n",
      "Dep. Variable:                      y   No. Observations:                  200\n",
      "Model:                          Logit   Df Residuals:                      196\n",
      "Method:                           MLE   Df Model:                            3\n",
      "Date:                Sun, 29 Oct 2023   Pseudo R-squ.:                 0.06451\n",
      "Time:                        08:59:00   Log-Likelihood:                -117.98\n",
      "converged:                       True   LL-Null:                       -126.12\n",
      "Covariance Type:            nonrobust   LLR p-value:                 0.0009981\n",
      "==============================================================================\n",
      "                 coef    std err          z      P>|z|      [0.025      0.975]\n",
      "------------------------------------------------------------------------------\n",
      "const         -1.3666      0.348     -3.929      0.000      -2.048      -0.685\n",
      "x1             0.0643      0.027      2.404      0.016       0.012       0.117\n",
      "x2             0.2999      0.144      2.086      0.037       0.018       0.582\n",
      "x3            -0.1535      0.079     -1.945      0.052      -0.308       0.001\n",
      "==============================================================================\n"
     ]
    }
   ],
   "source": [
    "# Best predictors\n",
    "X_train_best = X_train[:, best_predictors]\n",
    "\n",
    "# Fit best model\n",
    "X_train_best = sm.add_constant(X_train_best)\n",
    "best_model_ori = sm.Logit(y_train, X_train_best)\n",
    "best_model_ori_result = best_model_ori.fit()\n",
    "\n",
    "print(best_model_ori_result.summary())"
   ]
  },
  {
   "cell_type": "code",
   "execution_count": 75,
   "id": "d10df0fb",
   "metadata": {},
   "outputs": [
    {
     "data": {
      "text/plain": [
       "243.9620970267608"
      ]
     },
     "execution_count": 75,
     "metadata": {},
     "output_type": "execute_result"
    }
   ],
   "source": [
    "# Extract AIC\n",
    "best_model_ori_result.aic"
   ]
  },
  {
   "cell_type": "code",
   "execution_count": 76,
   "id": "49e80050",
   "metadata": {},
   "outputs": [
    {
     "data": {
      "text/html": [
       "<div>\n",
       "<style scoped>\n",
       "    .dataframe tbody tr th:only-of-type {\n",
       "        vertical-align: middle;\n",
       "    }\n",
       "\n",
       "    .dataframe tbody tr th {\n",
       "        vertical-align: top;\n",
       "    }\n",
       "\n",
       "    .dataframe thead th {\n",
       "        text-align: right;\n",
       "    }\n",
       "</style>\n",
       "<table border=\"1\" class=\"dataframe\">\n",
       "  <thead>\n",
       "    <tr style=\"text-align: right;\">\n",
       "      <th></th>\n",
       "      <th>weights</th>\n",
       "      <th>OR</th>\n",
       "    </tr>\n",
       "  </thead>\n",
       "  <tbody>\n",
       "    <tr>\n",
       "      <th>constant</th>\n",
       "      <td>-1.366571</td>\n",
       "      <td>0.254980</td>\n",
       "    </tr>\n",
       "    <tr>\n",
       "      <th>Absences</th>\n",
       "      <td>0.064294</td>\n",
       "      <td>1.066406</td>\n",
       "    </tr>\n",
       "    <tr>\n",
       "      <th>DaysLateLast30</th>\n",
       "      <td>0.299924</td>\n",
       "      <td>1.349756</td>\n",
       "    </tr>\n",
       "    <tr>\n",
       "      <th>SpecialProjectsCount</th>\n",
       "      <td>-0.153501</td>\n",
       "      <td>0.857700</td>\n",
       "    </tr>\n",
       "  </tbody>\n",
       "</table>\n",
       "</div>"
      ],
      "text/plain": [
       "                       weights        OR\n",
       "constant             -1.366571  0.254980\n",
       "Absences              0.064294  1.066406\n",
       "DaysLateLast30        0.299924  1.349756\n",
       "SpecialProjectsCount -0.153501  0.857700"
      ]
     },
     "execution_count": 76,
     "metadata": {},
     "output_type": "execute_result"
    }
   ],
   "source": [
    "# Estimasi parameter pada best model\n",
    "best_model_ori_params = ['constant'] + data_train.columns[best_predictors].tolist()\n",
    "best_model_ori_summary = pd.DataFrame({\n",
    "                                    'weights': best_model_ori_result.params,\n",
    "                                    'OR': np.exp(best_model_ori_result.params)\n",
    "                                  },\n",
    "                                  index = best_model_ori_params)\n",
    "\n",
    "best_model_ori_summary"
   ]
  },
  {
   "cell_type": "markdown",
   "id": "65a29595",
   "metadata": {},
   "source": [
    "## ROS Training Set\n",
    "---"
   ]
  },
  {
   "cell_type": "code",
   "execution_count": 77,
   "id": "bb9560c5",
   "metadata": {},
   "outputs": [
    {
     "name": "stdout",
     "output_type": "stream",
     "text": [
      "y_train_ros shape : (270,)\n",
      "X_train_ros shape : (270, 8)\n"
     ]
    }
   ],
   "source": [
    "# Split respon and prediktor\n",
    "y_train_ros = data_train_ros['Churn']\n",
    "X_train_ros = data_train_ros.drop(columns=['Churn'], axis=1)\n",
    "\n",
    "# Convert dataframe ke numpy\n",
    "X_train_ros = X_train_ros.to_numpy()\n",
    "y_train_ros = y_train_ros.to_numpy()\n",
    "\n",
    "print('y_train_ros shape :', y_train_ros.shape)\n",
    "print('X_train_ros shape :', X_train_ros.shape)"
   ]
  },
  {
   "cell_type": "code",
   "execution_count": 78,
   "id": "0e0546dd",
   "metadata": {},
   "outputs": [
    {
     "data": {
      "text/html": [
       "<div>\n",
       "<style scoped>\n",
       "    .dataframe tbody tr th:only-of-type {\n",
       "        vertical-align: middle;\n",
       "    }\n",
       "\n",
       "    .dataframe tbody tr th {\n",
       "        vertical-align: top;\n",
       "    }\n",
       "\n",
       "    .dataframe thead th {\n",
       "        text-align: right;\n",
       "    }\n",
       "</style>\n",
       "<table border=\"1\" class=\"dataframe\">\n",
       "  <thead>\n",
       "    <tr style=\"text-align: right;\">\n",
       "      <th></th>\n",
       "      <th>Predictors</th>\n",
       "      <th>AIC</th>\n",
       "    </tr>\n",
       "  </thead>\n",
       "  <tbody>\n",
       "    <tr>\n",
       "      <th>0</th>\n",
       "      <td>[]</td>\n",
       "      <td>284.250045</td>\n",
       "    </tr>\n",
       "  </tbody>\n",
       "</table>\n",
       "</div>"
      ],
      "text/plain": [
       "  Predictors         AIC\n",
       "0         []  284.250045"
      ]
     },
     "execution_count": 78,
     "metadata": {},
     "output_type": "execute_result"
    }
   ],
   "source": [
    "# Fit null model\n",
    "predictor = []\n",
    "score_ = cross_validate(X = X_train_ros[:, [1]],\n",
    "                        y = y_train_ros,\n",
    "                        method = 'kfold',\n",
    "                        cv = 5,\n",
    "                        random_state = 42)\n",
    "\n",
    "# Mendefinisakan tabel untuk best model untuk setiap k prediktor\n",
    "forward_models_ros = pd.DataFrame({\"Predictors\": [predictor],\n",
    "                                   \"AIC\": [score_]})\n",
    "\n",
    "forward_models_ros"
   ]
  },
  {
   "cell_type": "code",
   "execution_count": 79,
   "id": "42d4a42a",
   "metadata": {},
   "outputs": [],
   "source": [
    "# Definisikan list prediktor\n",
    "predictors = []\n",
    "n_predictors = X_train_ros.shape[1]\n",
    "\n",
    "# Teknik forward selection untuk k=1,...,9 prediktor\n",
    "for k in range(n_predictors):\n",
    "    _, best_model = forward(X = X_train_ros,\n",
    "                            y = y_train_ros,\n",
    "                            predictors = predictors,\n",
    "                            method = \"kfold\",\n",
    "                            cv = 5,\n",
    "                            random_state = 42)\n",
    "\n",
    "    # Tabulasi best model pada masing-masing k prediktor \n",
    "    forward_models_ros.loc[k+1] = best_model\n",
    "    predictors = best_model[\"Predictors\"]"
   ]
  },
  {
   "cell_type": "code",
   "execution_count": 80,
   "id": "bd4011e2",
   "metadata": {},
   "outputs": [
    {
     "data": {
      "text/html": [
       "<div>\n",
       "<style scoped>\n",
       "    .dataframe tbody tr th:only-of-type {\n",
       "        vertical-align: middle;\n",
       "    }\n",
       "\n",
       "    .dataframe tbody tr th {\n",
       "        vertical-align: top;\n",
       "    }\n",
       "\n",
       "    .dataframe thead th {\n",
       "        text-align: right;\n",
       "    }\n",
       "</style>\n",
       "<table border=\"1\" class=\"dataframe\">\n",
       "  <thead>\n",
       "    <tr style=\"text-align: right;\">\n",
       "      <th></th>\n",
       "      <th>Predictors</th>\n",
       "      <th>AIC</th>\n",
       "    </tr>\n",
       "  </thead>\n",
       "  <tbody>\n",
       "    <tr>\n",
       "      <th>0</th>\n",
       "      <td>[]</td>\n",
       "      <td>284.250045</td>\n",
       "    </tr>\n",
       "    <tr>\n",
       "      <th>1</th>\n",
       "      <td>[6]</td>\n",
       "      <td>279.568664</td>\n",
       "    </tr>\n",
       "    <tr>\n",
       "      <th>2</th>\n",
       "      <td>[6, 5]</td>\n",
       "      <td>279.460501</td>\n",
       "    </tr>\n",
       "    <tr>\n",
       "      <th>3</th>\n",
       "      <td>[6, 5, 7]</td>\n",
       "      <td>278.482963</td>\n",
       "    </tr>\n",
       "    <tr>\n",
       "      <th>4</th>\n",
       "      <td>[6, 5, 7, 0]</td>\n",
       "      <td>278.559254</td>\n",
       "    </tr>\n",
       "    <tr>\n",
       "      <th>5</th>\n",
       "      <td>[6, 5, 7, 0, 4]</td>\n",
       "      <td>280.989833</td>\n",
       "    </tr>\n",
       "    <tr>\n",
       "      <th>6</th>\n",
       "      <td>[6, 5, 7, 0, 4, 3]</td>\n",
       "      <td>283.875264</td>\n",
       "    </tr>\n",
       "    <tr>\n",
       "      <th>7</th>\n",
       "      <td>[6, 5, 7, 0, 4, 3, 2]</td>\n",
       "      <td>287.491838</td>\n",
       "    </tr>\n",
       "    <tr>\n",
       "      <th>8</th>\n",
       "      <td>[6, 5, 7, 0, 4, 3, 2, 1]</td>\n",
       "      <td>290.997391</td>\n",
       "    </tr>\n",
       "  </tbody>\n",
       "</table>\n",
       "</div>"
      ],
      "text/plain": [
       "                 Predictors         AIC\n",
       "0                        []  284.250045\n",
       "1                       [6]  279.568664\n",
       "2                    [6, 5]  279.460501\n",
       "3                 [6, 5, 7]  278.482963\n",
       "4              [6, 5, 7, 0]  278.559254\n",
       "5           [6, 5, 7, 0, 4]  280.989833\n",
       "6        [6, 5, 7, 0, 4, 3]  283.875264\n",
       "7     [6, 5, 7, 0, 4, 3, 2]  287.491838\n",
       "8  [6, 5, 7, 0, 4, 3, 2, 1]  290.997391"
      ]
     },
     "execution_count": 80,
     "metadata": {},
     "output_type": "execute_result"
    }
   ],
   "source": [
    "# Best model pada masing-masing k prediktor\n",
    "forward_models_ros"
   ]
  },
  {
   "cell_type": "code",
   "execution_count": 81,
   "id": "318b3465",
   "metadata": {},
   "outputs": [
    {
     "name": "stdout",
     "output_type": "stream",
     "text": [
      "Best index            : 3\n",
      "Best AIC              : 278.4829633532278\n",
      "Best predictors (idx) : [6, 5, 7]\n",
      "Best predictors       :\n",
      "['Absences', 'DaysLateLast30', 'Age']\n"
     ]
    }
   ],
   "source": [
    "# Best AIC score\n",
    "best_idx_ros = forward_models_ros['AIC'].argmin()\n",
    "best_AIC_ros = forward_models_ros['AIC'].loc[best_idx_ros]\n",
    "best_predictors_ros = forward_models_ros['Predictors'].loc[best_idx_ros]\n",
    "\n",
    "print('Best index            :', best_idx_ros)\n",
    "print('Best AIC              :', best_AIC_ros)\n",
    "print('Best predictors (idx) :', best_predictors_ros)\n",
    "print('Best predictors       :')\n",
    "print(data_train_ros.columns[best_predictors_ros].tolist())"
   ]
  },
  {
   "cell_type": "code",
   "execution_count": 82,
   "id": "2f51d258",
   "metadata": {},
   "outputs": [
    {
     "name": "stdout",
     "output_type": "stream",
     "text": [
      "Optimization terminated successfully.\n",
      "         Current function value: 0.664144\n",
      "         Iterations 5\n",
      "                           Logit Regression Results                           \n",
      "==============================================================================\n",
      "Dep. Variable:                      y   No. Observations:                  270\n",
      "Model:                          Logit   Df Residuals:                      266\n",
      "Method:                           MLE   Df Model:                            3\n",
      "Date:                Sun, 29 Oct 2023   Pseudo R-squ.:                 0.04184\n",
      "Time:                        08:59:00   Log-Likelihood:                -179.32\n",
      "converged:                       True   LL-Null:                       -187.15\n",
      "Covariance Type:            nonrobust   LLR p-value:                  0.001330\n",
      "==============================================================================\n",
      "                 coef    std err          z      P>|z|      [0.025      0.975]\n",
      "------------------------------------------------------------------------------\n",
      "const         -2.0018      0.693     -2.888      0.004      -3.360      -0.643\n",
      "x1             0.0459      0.021      2.190      0.029       0.005       0.087\n",
      "x2             0.3186      0.128      2.485      0.013       0.067       0.570\n",
      "x3             0.0341      0.015      2.269      0.023       0.005       0.064\n",
      "==============================================================================\n"
     ]
    }
   ],
   "source": [
    "# Best predictors\n",
    "X_train_ros_best = X_train_ros[:, best_predictors_ros]\n",
    "\n",
    "# Fit best model\n",
    "X_train_ros_best = sm.add_constant(X_train_ros_best)\n",
    "best_model_ros = sm.Logit(y_train_ros, X_train_ros_best)\n",
    "best_model_ros_result = best_model_ros.fit()\n",
    "\n",
    "print(best_model_ros_result.summary())"
   ]
  },
  {
   "cell_type": "code",
   "execution_count": 83,
   "id": "0efaa385",
   "metadata": {},
   "outputs": [
    {
     "data": {
      "text/plain": [
       "366.6375613709759"
      ]
     },
     "execution_count": 83,
     "metadata": {},
     "output_type": "execute_result"
    }
   ],
   "source": [
    "# Extract AIC\n",
    "best_model_ros_result.aic"
   ]
  },
  {
   "cell_type": "code",
   "execution_count": 84,
   "id": "71155d7b",
   "metadata": {},
   "outputs": [
    {
     "data": {
      "text/html": [
       "<div>\n",
       "<style scoped>\n",
       "    .dataframe tbody tr th:only-of-type {\n",
       "        vertical-align: middle;\n",
       "    }\n",
       "\n",
       "    .dataframe tbody tr th {\n",
       "        vertical-align: top;\n",
       "    }\n",
       "\n",
       "    .dataframe thead th {\n",
       "        text-align: right;\n",
       "    }\n",
       "</style>\n",
       "<table border=\"1\" class=\"dataframe\">\n",
       "  <thead>\n",
       "    <tr style=\"text-align: right;\">\n",
       "      <th></th>\n",
       "      <th>weights</th>\n",
       "      <th>OR</th>\n",
       "    </tr>\n",
       "  </thead>\n",
       "  <tbody>\n",
       "    <tr>\n",
       "      <th>constant</th>\n",
       "      <td>-2.001830</td>\n",
       "      <td>0.135088</td>\n",
       "    </tr>\n",
       "    <tr>\n",
       "      <th>Absences</th>\n",
       "      <td>0.045887</td>\n",
       "      <td>1.046956</td>\n",
       "    </tr>\n",
       "    <tr>\n",
       "      <th>DaysLateLast30</th>\n",
       "      <td>0.318622</td>\n",
       "      <td>1.375232</td>\n",
       "    </tr>\n",
       "    <tr>\n",
       "      <th>Age</th>\n",
       "      <td>0.034134</td>\n",
       "      <td>1.034724</td>\n",
       "    </tr>\n",
       "  </tbody>\n",
       "</table>\n",
       "</div>"
      ],
      "text/plain": [
       "                 weights        OR\n",
       "constant       -2.001830  0.135088\n",
       "Absences        0.045887  1.046956\n",
       "DaysLateLast30  0.318622  1.375232\n",
       "Age             0.034134  1.034724"
      ]
     },
     "execution_count": 84,
     "metadata": {},
     "output_type": "execute_result"
    }
   ],
   "source": [
    "# Estimasi parameter pada best model\n",
    "best_model_ros_params = ['constant'] + data_train_ros.columns[best_predictors_ros].tolist()\n",
    "best_model_ros_summary = pd.DataFrame({\n",
    "                                    'weights': best_model_ros_result.params,\n",
    "                                    'OR': np.exp(best_model_ros_result.params)\n",
    "                                  },\n",
    "                                  index = best_model_ros_params)\n",
    "\n",
    "best_model_ros_summary"
   ]
  },
  {
   "cell_type": "markdown",
   "id": "c8b7a260",
   "metadata": {},
   "source": [
    "# Model Evaluation\n",
    "---"
   ]
  },
  {
   "cell_type": "code",
   "execution_count": 85,
   "id": "5492d496",
   "metadata": {},
   "outputs": [],
   "source": [
    "def predictive_performance(X_test, y_test, model, predictors):\n",
    "\n",
    "    # Calculate success probability\n",
    "    X_test_best = X_test[:, predictors]\n",
    "    X_test_sm = sm.add_constant(X_test_best)\n",
    "    y_pred_test = model.predict(X_test_sm)\n",
    "\n",
    "    # Calculate AIC\n",
    "    aic_test = AIC(y_true = y_test,\n",
    "                 y_pred = y_pred_test,\n",
    "                 p = X_test.shape[1]+1)\n",
    "\n",
    "    # Calculate AUC\n",
    "    auc = metrics.roc_auc_score(y_true = y_test,\n",
    "                              y_score = y_pred_test)\n",
    "\n",
    "    return y_pred_test, round(aic_test, 2), round(auc, 2)"
   ]
  },
  {
   "cell_type": "code",
   "execution_count": 86,
   "id": "f4b5fb03",
   "metadata": {},
   "outputs": [
    {
     "name": "stdout",
     "output_type": "stream",
     "text": [
      "X test shape: (87, 8)\n",
      "y test shape: (87,)\n"
     ]
    }
   ],
   "source": [
    "# Convert data Test ke NumPy\n",
    "X_test = X_test.to_numpy()\n",
    "y_test = y_test.to_numpy()\n",
    "\n",
    "print('X test shape:', X_test.shape)\n",
    "print('y test shape:', y_test.shape)"
   ]
  },
  {
   "cell_type": "markdown",
   "id": "11c902dd",
   "metadata": {},
   "source": [
    "## The Original Training Set\n",
    "---"
   ]
  },
  {
   "cell_type": "code",
   "execution_count": 87,
   "id": "6b135f43",
   "metadata": {
    "scrolled": true
   },
   "outputs": [
    {
     "data": {
      "text/html": [
       "<div>\n",
       "<style scoped>\n",
       "    .dataframe tbody tr th:only-of-type {\n",
       "        vertical-align: middle;\n",
       "    }\n",
       "\n",
       "    .dataframe tbody tr th {\n",
       "        vertical-align: top;\n",
       "    }\n",
       "\n",
       "    .dataframe thead th {\n",
       "        text-align: right;\n",
       "    }\n",
       "</style>\n",
       "<table border=\"1\" class=\"dataframe\">\n",
       "  <thead>\n",
       "    <tr style=\"text-align: right;\">\n",
       "      <th></th>\n",
       "      <th>0</th>\n",
       "    </tr>\n",
       "  </thead>\n",
       "  <tbody>\n",
       "    <tr>\n",
       "      <th>Method</th>\n",
       "      <td>Original</td>\n",
       "    </tr>\n",
       "    <tr>\n",
       "      <th>Predictors</th>\n",
       "      <td>[6, 5, 4]</td>\n",
       "    </tr>\n",
       "    <tr>\n",
       "      <th>AIC Valid</th>\n",
       "      <td>250.003255</td>\n",
       "    </tr>\n",
       "    <tr>\n",
       "      <th>AIC Test</th>\n",
       "      <td>287.76</td>\n",
       "    </tr>\n",
       "    <tr>\n",
       "      <th>AUC</th>\n",
       "      <td>0.5</td>\n",
       "    </tr>\n",
       "  </tbody>\n",
       "</table>\n",
       "</div>"
      ],
      "text/plain": [
       "                     0\n",
       "Method        Original\n",
       "Predictors   [6, 5, 4]\n",
       "AIC Valid   250.003255\n",
       "AIC Test        287.76\n",
       "AUC                0.5"
      ]
     },
     "execution_count": 87,
     "metadata": {},
     "output_type": "execute_result"
    }
   ],
   "source": [
    "# Menghitung performa Original Model\n",
    "y_pred_test, aic_test, auc = predictive_performance(X_test = X_test,\n",
    "                                                    y_test = y_test,\n",
    "                                                    model = best_model_ori_result,\n",
    "                                                    predictors = best_predictors)\n",
    "\n",
    "# Summarize dalam bentuk tabel\n",
    "model_eval = pd.Series({'Method': 'Original',\n",
    "                        'Predictors' : best_predictors,\n",
    "                        'AIC Valid' : best_AIC,\n",
    "                        'AIC Test' : aic_test,\n",
    "                        'AUC' : auc})\n",
    "\n",
    "model_eval = model_eval.to_frame()\n",
    "model_eval"
   ]
  },
  {
   "cell_type": "code",
   "execution_count": 88,
   "id": "e6d7a3cf",
   "metadata": {},
   "outputs": [
    {
     "data": {
      "text/plain": [
       "<AxesSubplot:ylabel='Count'>"
      ]
     },
     "execution_count": 88,
     "metadata": {},
     "output_type": "execute_result"
    },
    {
     "data": {
      "image/png": "[encoded data removed]",
      "text/plain": [
       "<Figure size 432x288 with 1 Axes>"
      ]
     },
     "metadata": {
      "needs_background": "light"
     },
     "output_type": "display_data"
    }
   ],
   "source": [
    "# Distribusi predicted probability\n",
    "sns.histplot(x = y_pred_test,\n",
    "             kde = True)"
   ]
  },
  {
   "cell_type": "markdown",
   "id": "c76491fb",
   "metadata": {},
   "source": [
    "## ROS Training Set\n",
    "---"
   ]
  },
  {
   "cell_type": "code",
   "execution_count": 89,
   "id": "c69565db",
   "metadata": {},
   "outputs": [
    {
     "data": {
      "text/html": [
       "<div>\n",
       "<style scoped>\n",
       "    .dataframe tbody tr th:only-of-type {\n",
       "        vertical-align: middle;\n",
       "    }\n",
       "\n",
       "    .dataframe tbody tr th {\n",
       "        vertical-align: top;\n",
       "    }\n",
       "\n",
       "    .dataframe thead th {\n",
       "        text-align: right;\n",
       "    }\n",
       "</style>\n",
       "<table border=\"1\" class=\"dataframe\">\n",
       "  <thead>\n",
       "    <tr style=\"text-align: right;\">\n",
       "      <th></th>\n",
       "      <th>Method</th>\n",
       "      <th>Predictors</th>\n",
       "      <th>AIC Valid</th>\n",
       "      <th>AIC Test</th>\n",
       "      <th>AUC</th>\n",
       "    </tr>\n",
       "  </thead>\n",
       "  <tbody>\n",
       "    <tr>\n",
       "      <th>0</th>\n",
       "      <td>Original</td>\n",
       "      <td>[6, 5, 4]</td>\n",
       "      <td>250.003255</td>\n",
       "      <td>287.76</td>\n",
       "      <td>0.5</td>\n",
       "    </tr>\n",
       "    <tr>\n",
       "      <th>1</th>\n",
       "      <td>Oversampling</td>\n",
       "      <td>[6, 5, 7]</td>\n",
       "      <td>278.482963</td>\n",
       "      <td>320.08</td>\n",
       "      <td>0.51</td>\n",
       "    </tr>\n",
       "  </tbody>\n",
       "</table>\n",
       "</div>"
      ],
      "text/plain": [
       "         Method Predictors   AIC Valid AIC Test   AUC\n",
       "0      Original  [6, 5, 4]  250.003255   287.76   0.5\n",
       "1  Oversampling  [6, 5, 7]  278.482963   320.08  0.51"
      ]
     },
     "execution_count": 89,
     "metadata": {},
     "output_type": "execute_result"
    }
   ],
   "source": [
    "# Menghitung performa ROS Model\n",
    "y_pred_test_ros, aic_test_ros, auc_ros = predictive_performance(X_test = X_test,\n",
    "                                                                y_test = y_test,\n",
    "                                                                model = best_model_ros_result,\n",
    "                                                                predictors = best_predictors_ros)\n",
    "\n",
    "# Summarize dalam bentuk tabel\n",
    "ros_eval = pd.Series({'Method': 'Oversampling',\n",
    "                        'Predictors' : best_predictors_ros,\n",
    "                        'AIC Valid' : best_AIC_ros,\n",
    "                        'AIC Test' : aic_test_ros,\n",
    "                        'AUC' : auc_ros})\n",
    "\n",
    "# Concat dengan model_eval\n",
    "model_eval = pd.concat([model_eval, ros_eval],\n",
    "                       axis=1,\n",
    "                       ignore_index=True)\n",
    "model_eval.T"
   ]
  },
  {
   "cell_type": "code",
   "execution_count": 90,
   "id": "51e0ad9b",
   "metadata": {},
   "outputs": [
    {
     "data": {
      "text/plain": [
       "<AxesSubplot:ylabel='Count'>"
      ]
     },
     "execution_count": 90,
     "metadata": {},
     "output_type": "execute_result"
    },
    {
     "data": {
      "image/png": "[encoded data removed]",
      "text/plain": [
       "<Figure size 432x288 with 1 Axes>"
      ]
     },
     "metadata": {
      "needs_background": "light"
     },
     "output_type": "display_data"
    }
   ],
   "source": [
    "# Distribusi predicted probability\n",
    "sns.histplot(x = y_pred_test_ros,\n",
    "             kde = True)"
   ]
  },
  {
   "cell_type": "markdown",
   "id": "0995d6e3",
   "metadata": {},
   "source": [
    "# Interpret the Best Model Parameters\n",
    "---"
   ]
  },
  {
   "cell_type": "markdown",
   "id": "39a0544c",
   "metadata": {},
   "source": [
    "**Summary:**\n",
    "- Best model yaitu model dengan data training Original karena memiliki AIC terkecil pada data validation dan test.\n",
    "- Namun model dengan data original kesulitan untuk memprediksi `y=1` saat cut-off probability 0.5.\n",
    "- AUC pada training set original dan ROS hampir mirip, disebabkan  imbalanced data set "
   ]
  },
  {
   "cell_type": "code",
   "execution_count": 91,
   "id": "38a29d0b",
   "metadata": {
    "scrolled": true
   },
   "outputs": [
    {
     "data": {
      "text/html": [
       "<div>\n",
       "<style scoped>\n",
       "    .dataframe tbody tr th:only-of-type {\n",
       "        vertical-align: middle;\n",
       "    }\n",
       "\n",
       "    .dataframe tbody tr th {\n",
       "        vertical-align: top;\n",
       "    }\n",
       "\n",
       "    .dataframe thead th {\n",
       "        text-align: right;\n",
       "    }\n",
       "</style>\n",
       "<table border=\"1\" class=\"dataframe\">\n",
       "  <thead>\n",
       "    <tr style=\"text-align: right;\">\n",
       "      <th></th>\n",
       "      <th>weights</th>\n",
       "      <th>OR</th>\n",
       "    </tr>\n",
       "  </thead>\n",
       "  <tbody>\n",
       "    <tr>\n",
       "      <th>constant</th>\n",
       "      <td>-1.366571</td>\n",
       "      <td>0.254980</td>\n",
       "    </tr>\n",
       "    <tr>\n",
       "      <th>Absences</th>\n",
       "      <td>0.064294</td>\n",
       "      <td>1.066406</td>\n",
       "    </tr>\n",
       "    <tr>\n",
       "      <th>DaysLateLast30</th>\n",
       "      <td>0.299924</td>\n",
       "      <td>1.349756</td>\n",
       "    </tr>\n",
       "    <tr>\n",
       "      <th>SpecialProjectsCount</th>\n",
       "      <td>-0.153501</td>\n",
       "      <td>0.857700</td>\n",
       "    </tr>\n",
       "  </tbody>\n",
       "</table>\n",
       "</div>"
      ],
      "text/plain": [
       "                       weights        OR\n",
       "constant             -1.366571  0.254980\n",
       "Absences              0.064294  1.066406\n",
       "DaysLateLast30        0.299924  1.349756\n",
       "SpecialProjectsCount -0.153501  0.857700"
      ]
     },
     "execution_count": 91,
     "metadata": {},
     "output_type": "execute_result"
    }
   ],
   "source": [
    "best_model_ori_summary"
   ]
  },
  {
   "cell_type": "markdown",
   "id": "40e7fbc0",
   "metadata": {},
   "source": [
    "- **Prediktor yang meningkatkan resign pegawai** :\n",
    "    - `Absences` : peningkatan 1 hari absences akan meningkatkan odds of churning hampir 7%\n",
    "    - `DaysLateLast30` : peningkatan 1 kali telat akan meningkatkan odds of churning hampit 35%\n",
    "\n",
    "- **Prediktor yang menurunkan resign pegawai** :\n",
    "    - `SpecialProjectsCount` : peningkatan 1 project akan menurunkan odds of churning hampir 15%"
   ]
  },
  {
   "cell_type": "code",
   "execution_count": null,
   "id": "cc168fd5",
   "metadata": {},
   "outputs": [],
   "source": []
  }
 ],
 "metadata": {
  "kernelspec": {
   "display_name": "Python 3",
   "language": "python",
   "name": "python3"
  },
  "language_info": {
   "codemirror_mode": {
    "name": "ipython",
    "version": 3
   },
   "file_extension": ".py",
   "mimetype": "text/x-python",
   "name": "python",
   "nbconvert_exporter": "python",
   "pygments_lexer": "ipython3",
   "version": "3.8.5"
  },
  "toc": {
   "base_numbering": 1,
   "nav_menu": {},
   "number_sections": true,
   "sideBar": true,
   "skip_h1_title": false,
   "title_cell": "Table of Contents",
   "title_sidebar": "Contents",
   "toc_cell": false,
   "toc_position": {},
   "toc_section_display": true,
   "toc_window_display": true
  }
 },
 "nbformat": 4,
 "nbformat_minor": 5
}
